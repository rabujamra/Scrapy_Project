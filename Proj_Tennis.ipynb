{
 "cells": [
  {
   "cell_type": "code",
   "execution_count": 1,
   "metadata": {},
   "outputs": [],
   "source": [
    "import pandas as pd\n",
    "import numpy as np\n",
    "import matplotlib.pyplot as plt\n",
    "import seaborn as sns\n",
    "import re\n",
    "pd.set_option('display.max_columns', None)\n",
    "pd.set_option('display.max_rows', None)"
   ]
  },
  {
   "cell_type": "code",
   "execution_count": 2,
   "metadata": {},
   "outputs": [],
   "source": [
    "Tennis = pd.read_csv(\"Tennis.csv\") "
   ]
  },
  {
   "cell_type": "markdown",
   "metadata": {},
   "source": [
    "## 1. Data Cleaning/Processing"
   ]
  },
  {
   "cell_type": "code",
   "execution_count": 3,
   "metadata": {},
   "outputs": [],
   "source": [
    "#update wt/ht to make int (also remove parentheses and kg/cm)\n",
    "Tennis.ht = pd.Series([int(re.sub(\"[cm()]\",'',str(x))) if x is not np.nan else x for x in Tennis.ht])\n",
    "Tennis.wt = pd.Series([int(re.sub(\"[kg()]\",'',str(x))) if x is not np.nan else x for x in Tennis.wt])"
   ]
  },
  {
   "cell_type": "code",
   "execution_count": 4,
   "metadata": {},
   "outputs": [],
   "source": [
    "#Split Tennis into Ten0/Ten1 based on having missing birthplace\n",
    "Ten0 = Tennis[Tennis.birthplace.isna()] \n",
    "Ten1 = Tennis[Tennis.birthplace.notna()]\n"
   ]
  },
  {
   "cell_type": "code",
   "execution_count": 5,
   "metadata": {},
   "outputs": [
    {
     "data": {
      "text/plain": [
       "(1934, 16)"
      ]
     },
     "execution_count": 5,
     "metadata": {},
     "output_type": "execute_result"
    }
   ],
   "source": [
    "Tennis.shape"
   ]
  },
  {
   "cell_type": "code",
   "execution_count": 6,
   "metadata": {},
   "outputs": [
    {
     "name": "stdout",
     "output_type": "stream",
     "text": [
      "Median0=  1283.5\n",
      "Median1=  482.0\n",
      "N0:  1064\n",
      "N1:  870\n",
      "Min0=  148\n",
      "Min1=  0\n",
      "Max0=  1928\n",
      "Max1=  1922\n"
     ]
    }
   ],
   "source": [
    "#Compare both groups\n",
    "print('Median0= ', Ten0['rank_2020'].median())\n",
    "print('Median1= ',Ten1['rank_2020'].median())\n",
    "\n",
    "print('N0: ', Ten0.shape[0])\n",
    "print('N1: ', Ten1.shape[0])\n",
    "\n",
    "print('Min0= ', Ten0[Ten0.rank_2020 != 0]['rank_2020'].min())\n",
    "print('Min1= ',Ten1['rank_2020'].min())\n",
    "\n",
    "print('Max0= ', Ten0['rank_2020'].max())\n",
    "print('Max1= ',Ten1['rank_2020'].max())"
   ]
  },
  {
   "cell_type": "code",
   "execution_count": 7,
   "metadata": {},
   "outputs": [
    {
     "data": {
      "image/png": "[encoded data removed]",
      "text/plain": [
       "<Figure size 432x288 with 1 Axes>"
      ]
     },
     "metadata": {
      "needs_background": "light"
     },
     "output_type": "display_data"
    }
   ],
   "source": [
    "#Compare both groups using boxplot\n",
    "\n",
    "Tennis['birth_missing'] = np.where(Tennis.birthplace.isna(), '0', '1')\n",
    "\n",
    "sns.boxplot(x=\"birth_missing\", y=\"rank_2020\", data=Tennis)\n",
    "plt.show()"
   ]
  },
  {
   "cell_type": "code",
   "execution_count": 8,
   "metadata": {},
   "outputs": [],
   "source": [
    "#Study will focus on Ten1 group only (N=870)"
   ]
  },
  {
   "cell_type": "markdown",
   "metadata": {},
   "source": [
    "### Clean up Ten1"
   ]
  },
  {
   "cell_type": "code",
   "execution_count": 9,
   "metadata": {},
   "outputs": [
    {
     "data": {
      "text/plain": [
       "age                1\n",
       "backhand           1\n",
       "birthplace         0\n",
       "f_name             0\n",
       "finals_career      0\n",
       "ht                34\n",
       "l_hand             1\n",
       "l_name             0\n",
       "loss_career        0\n",
       "prize_career       0\n",
       "rank_2020          0\n",
       "rank_career        0\n",
       "titles_career      0\n",
       "win_career         0\n",
       "wt                22\n",
       "yr_pro           490\n",
       "dtype: int64"
      ]
     },
     "execution_count": 9,
     "metadata": {},
     "output_type": "execute_result"
    }
   ],
   "source": [
    "#Look at missing in Ten1 group (looks fairly solid)\n",
    "Ten1.isnull().sum()"
   ]
  },
  {
   "cell_type": "code",
   "execution_count": 10,
   "metadata": {},
   "outputs": [
    {
     "data": {
      "text/plain": [
       "age               0\n",
       "backhand          1\n",
       "birthplace        0\n",
       "f_name            0\n",
       "finals_career     0\n",
       "ht               21\n",
       "l_hand            1\n",
       "l_name            0\n",
       "loss_career       0\n",
       "prize_career      0\n",
       "rank_2020         0\n",
       "rank_career       0\n",
       "titles_career     0\n",
       "win_career        0\n",
       "wt               21\n",
       "yr_pro           21\n",
       "dtype: int64"
      ]
     },
     "execution_count": 10,
     "metadata": {},
     "output_type": "execute_result"
    }
   ],
   "source": [
    "#missing stats for ht/wt\n",
    "Ten1[Ten1.ht.isna() & Ten1.wt.isna()].isnull().sum() #remove those having both ht/wt missing (21 total)"
   ]
  },
  {
   "cell_type": "code",
   "execution_count": 11,
   "metadata": {
    "scrolled": true
   },
   "outputs": [
    {
     "data": {
      "text/plain": [
       "age                1\n",
       "backhand           0\n",
       "birthplace         0\n",
       "f_name             0\n",
       "finals_career      0\n",
       "ht                13\n",
       "l_hand             0\n",
       "l_name             0\n",
       "loss_career        0\n",
       "prize_career       0\n",
       "rank_2020          0\n",
       "rank_career        0\n",
       "titles_career      0\n",
       "win_career         0\n",
       "wt                 1\n",
       "yr_pro           469\n",
       "dtype: int64"
      ]
     },
     "execution_count": 11,
     "metadata": {},
     "output_type": "execute_result"
    }
   ],
   "source": [
    "Ten1[Ten1.ht.notna() | Ten1.wt.notna()].isnull().sum() #this is what we will keep (mutate NA's)--850 total remain"
   ]
  },
  {
   "cell_type": "code",
   "execution_count": 12,
   "metadata": {
    "scrolled": true
   },
   "outputs": [
    {
     "name": "stderr",
     "output_type": "stream",
     "text": [
      "/Users/joehaber/opt/anaconda3/lib/python3.7/site-packages/pandas/core/frame.py:3997: SettingWithCopyWarning: \n",
      "A value is trying to be set on a copy of a slice from a DataFrame\n",
      "\n",
      "See the caveats in the documentation: https://pandas.pydata.org/pandas-docs/stable/user_guide/indexing.html#returning-a-view-versus-a-copy\n",
      "  errors=errors,\n"
     ]
    },
    {
     "data": {
      "text/plain": [
       "(870, 15)"
      ]
     },
     "execution_count": 12,
     "metadata": {},
     "output_type": "execute_result"
    }
   ],
   "source": [
    "#remove yr_pro (since missing significantly, will not be used)\n",
    "Ten1.drop('yr_pro', axis=1, inplace=True)\n",
    "Ten1.shape #shape before removing missing (ck)"
   ]
  },
  {
   "cell_type": "code",
   "execution_count": 13,
   "metadata": {},
   "outputs": [],
   "source": [
    "# remove remaining ht/wt NA's (N=849)"
   ]
  },
  {
   "cell_type": "code",
   "execution_count": 14,
   "metadata": {
    "scrolled": false
   },
   "outputs": [
    {
     "data": {
      "text/plain": [
       "(849, 15)"
      ]
     },
     "execution_count": 14,
     "metadata": {},
     "output_type": "execute_result"
    }
   ],
   "source": [
    "#remove all ht or wt not NA (remove if missing both ht/wt)\n",
    "Ten1 = Ten1[Ten1.ht.notna() | Ten1.wt.notna()]\n",
    "Ten1.shape #shape after removing missing (ck)"
   ]
  },
  {
   "cell_type": "code",
   "execution_count": 15,
   "metadata": {},
   "outputs": [
    {
     "data": {
      "text/plain": [
       "age              0\n",
       "backhand         0\n",
       "birthplace       0\n",
       "f_name           0\n",
       "finals_career    0\n",
       "ht               0\n",
       "l_hand           0\n",
       "l_name           0\n",
       "loss_career      0\n",
       "prize_career     0\n",
       "rank_2020        0\n",
       "rank_career      0\n",
       "titles_career    0\n",
       "win_career       0\n",
       "wt               0\n",
       "dtype: int64"
      ]
     },
     "execution_count": 15,
     "metadata": {},
     "output_type": "execute_result"
    }
   ],
   "source": [
    "#fill remaining NA's with mean for respective cols\n",
    "Ten1.fillna(Ten1.mean(), inplace=True)\n",
    "\n",
    "#ck for any remaining NA's (should not be any)\n",
    "Ten1.isnull().sum()"
   ]
  },
  {
   "cell_type": "markdown",
   "metadata": {},
   "source": [
    "### Clean up birthplace"
   ]
  },
  {
   "cell_type": "code",
   "execution_count": 16,
   "metadata": {},
   "outputs": [],
   "source": [
    "#replace errors in birthplace (typos)\n",
    "Ten1.loc[Ten1['birthplace'].str.contains('U.S.A.'), 'birthplace'] = 'USA'\n",
    "Ten1.loc[Ten1['birthplace'].str.contains('CA'), 'birthplace'] = 'USA'\n",
    "Ten1.loc[Ten1['birthplace'].str.contains('California'), 'birthplace'] = 'USA'\n",
    "Ten1.loc[Ten1['birthplace'].str.contains('Florida'), 'birthplace'] = 'USA'\n",
    "Ten1.loc[Ten1['birthplace'].str.contains('Ohio'), 'birthplace'] = 'USA'\n",
    "Ten1.loc[Ten1['birthplace'].str.contains('NC'), 'birthplace'] = 'USA'\n",
    "Ten1.loc[Ten1['birthplace'].str.contains('New York'), 'birthplace'] = 'USA'\n",
    "Ten1.loc[Ten1['birthplace'].str.contains('Illinois'), 'birthplace'] = 'USA'\n",
    "Ten1.loc[Ten1['birthplace'].str.contains('IA'), 'birthplace'] = 'USA'\n",
    "Ten1.loc[Ten1['birthplace'].str.contains('IL'), 'birthplace'] = 'USA'\n",
    "Ten1.loc[Ten1['birthplace'].str.contains('OH'), 'birthplace'] = 'USA'\n",
    "Ten1.loc[Ten1['birthplace'].str.contains('Idaho'), 'birthplace'] = 'USA'\n",
    "Ten1.loc[Ten1['birthplace'].str.contains('Michigan'), 'birthplace'] = 'USA'\n",
    "Ten1.loc[Ten1['birthplace'].str.contains('Scotland'), 'birthplace'] = 'England'\n",
    "Ten1.loc[Ten1['birthplace'].str.contains('Great Britain'), 'birthplace'] = 'England'\n",
    "Ten1.loc[Ten1['birthplace'].str.contains('Bosnia & Herzegovina'), 'birthplace'] = 'Bosnia-Herzegovina'\n",
    "Ten1.loc[Ten1['birthplace'].str.contains('Cyrprus'), 'birthplace'] = 'Cyprus'\n",
    "Ten1.loc[Ten1['birthplace'].str.contains('South Australia'), 'birthplace'] = 'Australia'\n",
    "Ten1.loc[Ten1['birthplace'].str.contains('Slovak Republic'), 'birthplace'] = 'Slovakia'\n",
    "Ten1.loc[Ten1['birthplace'].str.contains('CZE'), 'birthplace'] = 'Czech Republic'\n",
    "Ten1.loc[Ten1['birthplace'].str.contains('chile'), 'birthplace'] = 'Chile'\n",
    "Ten1.loc[Ten1['birthplace'].str.contains('BRA'), 'birthplace'] = 'Brazil'\n",
    "Ten1.loc[Ten1['birthplace'].str.contains('Chinese Taipei'), 'birthplace'] = 'Taiwan'\n",
    "Ten1.loc[Ten1['birthplace'].str.contains('The Netherlands'), 'birthplace'] = 'Netherlands'"
   ]
  },
  {
   "cell_type": "code",
   "execution_count": 17,
   "metadata": {},
   "outputs": [
    {
     "data": {
      "text/plain": [
       "(849, 15)"
      ]
     },
     "execution_count": 17,
     "metadata": {},
     "output_type": "execute_result"
    }
   ],
   "source": [
    "Ten1.shape"
   ]
  },
  {
   "cell_type": "code",
   "execution_count": 18,
   "metadata": {},
   "outputs": [
    {
     "data": {
      "text/html": [
       "<div>\n",
       "<style scoped>\n",
       "    .dataframe tbody tr th:only-of-type {\n",
       "        vertical-align: middle;\n",
       "    }\n",
       "\n",
       "    .dataframe tbody tr th {\n",
       "        vertical-align: top;\n",
       "    }\n",
       "\n",
       "    .dataframe thead th {\n",
       "        text-align: right;\n",
       "    }\n",
       "</style>\n",
       "<table border=\"1\" class=\"dataframe\">\n",
       "  <thead>\n",
       "    <tr style=\"text-align: right;\">\n",
       "      <th></th>\n",
       "      <th>age</th>\n",
       "      <th>backhand</th>\n",
       "      <th>birthplace</th>\n",
       "      <th>f_name</th>\n",
       "      <th>finals_career</th>\n",
       "      <th>ht</th>\n",
       "      <th>l_hand</th>\n",
       "      <th>l_name</th>\n",
       "      <th>loss_career</th>\n",
       "      <th>prize_career</th>\n",
       "      <th>rank_2020</th>\n",
       "      <th>rank_career</th>\n",
       "      <th>titles_career</th>\n",
       "      <th>win_career</th>\n",
       "      <th>wt</th>\n",
       "    </tr>\n",
       "  </thead>\n",
       "  <tbody>\n",
       "    <tr>\n",
       "      <th>219</th>\n",
       "      <td>22.0</td>\n",
       "      <td>Two-Handed Backhand</td>\n",
       "      <td>Spain</td>\n",
       "      <td>Miguel</td>\n",
       "      <td>0</td>\n",
       "      <td>180.0</td>\n",
       "      <td>Right-Handed</td>\n",
       "      <td>Semmler</td>\n",
       "      <td>0</td>\n",
       "      <td>57577.0</td>\n",
       "      <td>0</td>\n",
       "      <td>514</td>\n",
       "      <td>0</td>\n",
       "      <td>0</td>\n",
       "      <td>64.0</td>\n",
       "    </tr>\n",
       "    <tr>\n",
       "      <th>478</th>\n",
       "      <td>32.0</td>\n",
       "      <td>Unknown Backhand</td>\n",
       "      <td>Belgium</td>\n",
       "      <td>Niels</td>\n",
       "      <td>0</td>\n",
       "      <td>191.0</td>\n",
       "      <td>Right-Handed</td>\n",
       "      <td>Desein</td>\n",
       "      <td>3</td>\n",
       "      <td>412570.0</td>\n",
       "      <td>0</td>\n",
       "      <td>154</td>\n",
       "      <td>0</td>\n",
       "      <td>0</td>\n",
       "      <td>85.0</td>\n",
       "    </tr>\n",
       "    <tr>\n",
       "      <th>660</th>\n",
       "      <td>25.0</td>\n",
       "      <td>One-Handed Backhand</td>\n",
       "      <td>USA</td>\n",
       "      <td>Nicholas</td>\n",
       "      <td>0</td>\n",
       "      <td>188.0</td>\n",
       "      <td>Right-Handed</td>\n",
       "      <td>Reyes</td>\n",
       "      <td>0</td>\n",
       "      <td>12980.0</td>\n",
       "      <td>0</td>\n",
       "      <td>1223</td>\n",
       "      <td>0</td>\n",
       "      <td>0</td>\n",
       "      <td>83.0</td>\n",
       "    </tr>\n",
       "    <tr>\n",
       "      <th>1121</th>\n",
       "      <td>22.0</td>\n",
       "      <td>Unknown Backhand</td>\n",
       "      <td>Korea</td>\n",
       "      <td>Sanhui</td>\n",
       "      <td>0</td>\n",
       "      <td>180.0</td>\n",
       "      <td>Right-Handed</td>\n",
       "      <td>Shin</td>\n",
       "      <td>0</td>\n",
       "      <td>9788.0</td>\n",
       "      <td>0</td>\n",
       "      <td>823</td>\n",
       "      <td>0</td>\n",
       "      <td>0</td>\n",
       "      <td>75.0</td>\n",
       "    </tr>\n",
       "    <tr>\n",
       "      <th>1248</th>\n",
       "      <td>32.0</td>\n",
       "      <td>Two-Handed Backhand</td>\n",
       "      <td>Croatia</td>\n",
       "      <td>Franko</td>\n",
       "      <td>0</td>\n",
       "      <td>196.0</td>\n",
       "      <td>Right-Handed</td>\n",
       "      <td>Skugor</td>\n",
       "      <td>23</td>\n",
       "      <td>1467764.0</td>\n",
       "      <td>0</td>\n",
       "      <td>145</td>\n",
       "      <td>0</td>\n",
       "      <td>8</td>\n",
       "      <td>95.0</td>\n",
       "    </tr>\n",
       "    <tr>\n",
       "      <th>1416</th>\n",
       "      <td>18.0</td>\n",
       "      <td>Unknown Backhand</td>\n",
       "      <td>France</td>\n",
       "      <td>Harold</td>\n",
       "      <td>0</td>\n",
       "      <td>178.0</td>\n",
       "      <td>Right-Handed</td>\n",
       "      <td>Mayot</td>\n",
       "      <td>0</td>\n",
       "      <td>12648.0</td>\n",
       "      <td>0</td>\n",
       "      <td>509</td>\n",
       "      <td>0</td>\n",
       "      <td>0</td>\n",
       "      <td>78.0</td>\n",
       "    </tr>\n",
       "  </tbody>\n",
       "</table>\n",
       "</div>"
      ],
      "text/plain": [
       "       age             backhand birthplace    f_name  finals_career     ht  \\\n",
       "219   22.0  Two-Handed Backhand      Spain    Miguel              0  180.0   \n",
       "478   32.0     Unknown Backhand    Belgium     Niels              0  191.0   \n",
       "660   25.0  One-Handed Backhand        USA  Nicholas              0  188.0   \n",
       "1121  22.0     Unknown Backhand      Korea    Sanhui              0  180.0   \n",
       "1248  32.0  Two-Handed Backhand    Croatia    Franko              0  196.0   \n",
       "1416  18.0     Unknown Backhand     France    Harold              0  178.0   \n",
       "\n",
       "            l_hand   l_name  loss_career  prize_career  rank_2020  \\\n",
       "219   Right-Handed  Semmler            0       57577.0          0   \n",
       "478   Right-Handed   Desein            3      412570.0          0   \n",
       "660   Right-Handed    Reyes            0       12980.0          0   \n",
       "1121  Right-Handed     Shin            0        9788.0          0   \n",
       "1248  Right-Handed   Skugor           23     1467764.0          0   \n",
       "1416  Right-Handed    Mayot            0       12648.0          0   \n",
       "\n",
       "      rank_career  titles_career  win_career    wt  \n",
       "219           514              0           0  64.0  \n",
       "478           154              0           0  85.0  \n",
       "660          1223              0           0  83.0  \n",
       "1121          823              0           0  75.0  \n",
       "1248          145              0           8  95.0  \n",
       "1416          509              0           0  78.0  "
      ]
     },
     "execution_count": 18,
     "metadata": {},
     "output_type": "execute_result"
    }
   ],
   "source": [
    "Ten1[Ten1.rank_2020 == 0]"
   ]
  },
  {
   "cell_type": "code",
   "execution_count": 19,
   "metadata": {},
   "outputs": [],
   "source": [
    "#remove 4 rows having rank_2020=0 (mostly trivial values)--6?\n",
    "Ten1 = Ten1[Ten1.rank_2020 != 0]"
   ]
  },
  {
   "cell_type": "code",
   "execution_count": 20,
   "metadata": {},
   "outputs": [
    {
     "name": "stdout",
     "output_type": "stream",
     "text": [
      "Final N for Ten1:  843\n"
     ]
    }
   ],
   "source": [
    "print('Final N for Ten1: ', Ten1.shape[0])"
   ]
  },
  {
   "cell_type": "code",
   "execution_count": 382,
   "metadata": {},
   "outputs": [],
   "source": [
    "#Ten1.groupby('rank_2020')['rank_2020'].count().sort_values(ascending=False)"
   ]
  },
  {
   "cell_type": "markdown",
   "metadata": {},
   "source": [
    "## 2. Data Exploration"
   ]
  },
  {
   "cell_type": "code",
   "execution_count": null,
   "metadata": {},
   "outputs": [],
   "source": [
    "#Start Explortion--Ten1 contains full study data"
   ]
  },
  {
   "cell_type": "code",
   "execution_count": 21,
   "metadata": {},
   "outputs": [
    {
     "data": {
      "text/html": [
       "<div>\n",
       "<style scoped>\n",
       "    .dataframe tbody tr th:only-of-type {\n",
       "        vertical-align: middle;\n",
       "    }\n",
       "\n",
       "    .dataframe tbody tr th {\n",
       "        vertical-align: top;\n",
       "    }\n",
       "\n",
       "    .dataframe thead th {\n",
       "        text-align: right;\n",
       "    }\n",
       "</style>\n",
       "<table border=\"1\" class=\"dataframe\">\n",
       "  <thead>\n",
       "    <tr style=\"text-align: right;\">\n",
       "      <th></th>\n",
       "      <th>age</th>\n",
       "      <th>backhand</th>\n",
       "      <th>birthplace</th>\n",
       "      <th>f_name</th>\n",
       "      <th>finals_career</th>\n",
       "      <th>ht</th>\n",
       "      <th>l_hand</th>\n",
       "      <th>l_name</th>\n",
       "      <th>loss_career</th>\n",
       "      <th>prize_career</th>\n",
       "      <th>rank_2020</th>\n",
       "      <th>rank_career</th>\n",
       "      <th>titles_career</th>\n",
       "      <th>win_career</th>\n",
       "      <th>wt</th>\n",
       "    </tr>\n",
       "  </thead>\n",
       "  <tbody>\n",
       "    <tr>\n",
       "      <th>0</th>\n",
       "      <td>32.0</td>\n",
       "      <td>Two-Handed Backhand</td>\n",
       "      <td>Serbia</td>\n",
       "      <td>Novak</td>\n",
       "      <td>34</td>\n",
       "      <td>188.0</td>\n",
       "      <td>Right-Handed</td>\n",
       "      <td>Djokovic</td>\n",
       "      <td>187</td>\n",
       "      <td>143059955.0</td>\n",
       "      <td>1</td>\n",
       "      <td>1</td>\n",
       "      <td>78</td>\n",
       "      <td>906</td>\n",
       "      <td>77.0</td>\n",
       "    </tr>\n",
       "    <tr>\n",
       "      <th>1928</th>\n",
       "      <td>33.0</td>\n",
       "      <td>Two-Handed Backhand</td>\n",
       "      <td>Spain</td>\n",
       "      <td>Rafael</td>\n",
       "      <td>37</td>\n",
       "      <td>185.0</td>\n",
       "      <td>Left-Handed</td>\n",
       "      <td>Nadal</td>\n",
       "      <td>200</td>\n",
       "      <td>120583119.0</td>\n",
       "      <td>2</td>\n",
       "      <td>1</td>\n",
       "      <td>84</td>\n",
       "      <td>985</td>\n",
       "      <td>85.0</td>\n",
       "    </tr>\n",
       "    <tr>\n",
       "      <th>1927</th>\n",
       "      <td>38.0</td>\n",
       "      <td>One-Handed Backhand</td>\n",
       "      <td>Switzerland</td>\n",
       "      <td>Roger</td>\n",
       "      <td>54</td>\n",
       "      <td>185.0</td>\n",
       "      <td>Right-Handed</td>\n",
       "      <td>Federer</td>\n",
       "      <td>271</td>\n",
       "      <td>129946683.0</td>\n",
       "      <td>3</td>\n",
       "      <td>1</td>\n",
       "      <td>103</td>\n",
       "      <td>1242</td>\n",
       "      <td>85.0</td>\n",
       "    </tr>\n",
       "    <tr>\n",
       "      <th>1926</th>\n",
       "      <td>26.0</td>\n",
       "      <td>One-Handed Backhand</td>\n",
       "      <td>Austria</td>\n",
       "      <td>Dominic</td>\n",
       "      <td>10</td>\n",
       "      <td>185.0</td>\n",
       "      <td>Right-Handed</td>\n",
       "      <td>Thiem</td>\n",
       "      <td>151</td>\n",
       "      <td>23825893.0</td>\n",
       "      <td>4</td>\n",
       "      <td>4</td>\n",
       "      <td>16</td>\n",
       "      <td>282</td>\n",
       "      <td>79.0</td>\n",
       "    </tr>\n",
       "    <tr>\n",
       "      <th>1925</th>\n",
       "      <td>24.0</td>\n",
       "      <td>Two-Handed Backhand</td>\n",
       "      <td>Russia</td>\n",
       "      <td>Daniil</td>\n",
       "      <td>6</td>\n",
       "      <td>198.0</td>\n",
       "      <td>Right-Handed</td>\n",
       "      <td>Medvedev</td>\n",
       "      <td>79</td>\n",
       "      <td>11207951.0</td>\n",
       "      <td>5</td>\n",
       "      <td>4</td>\n",
       "      <td>7</td>\n",
       "      <td>138</td>\n",
       "      <td>83.0</td>\n",
       "    </tr>\n",
       "    <tr>\n",
       "      <th>1924</th>\n",
       "      <td>21.0</td>\n",
       "      <td>One-Handed Backhand</td>\n",
       "      <td>Greece</td>\n",
       "      <td>Stefanos</td>\n",
       "      <td>5</td>\n",
       "      <td>193.0</td>\n",
       "      <td>Right-Handed</td>\n",
       "      <td>Tsitsipas</td>\n",
       "      <td>66</td>\n",
       "      <td>10824098.0</td>\n",
       "      <td>6</td>\n",
       "      <td>5</td>\n",
       "      <td>4</td>\n",
       "      <td>107</td>\n",
       "      <td>89.0</td>\n",
       "    </tr>\n",
       "    <tr>\n",
       "      <th>1923</th>\n",
       "      <td>22.0</td>\n",
       "      <td>Two-Handed Backhand</td>\n",
       "      <td>Germany</td>\n",
       "      <td>Alexander</td>\n",
       "      <td>7</td>\n",
       "      <td>198.0</td>\n",
       "      <td>Right-Handed</td>\n",
       "      <td>Zverev</td>\n",
       "      <td>118</td>\n",
       "      <td>20978205.0</td>\n",
       "      <td>7</td>\n",
       "      <td>3</td>\n",
       "      <td>11</td>\n",
       "      <td>228</td>\n",
       "      <td>90.0</td>\n",
       "    </tr>\n",
       "    <tr>\n",
       "      <th>1922</th>\n",
       "      <td>23.0</td>\n",
       "      <td>Two-Handed Backhand</td>\n",
       "      <td>Italy</td>\n",
       "      <td>Matteo</td>\n",
       "      <td>1</td>\n",
       "      <td>196.0</td>\n",
       "      <td>Right-Handed</td>\n",
       "      <td>Berrettini</td>\n",
       "      <td>46</td>\n",
       "      <td>4418836.0</td>\n",
       "      <td>8</td>\n",
       "      <td>8</td>\n",
       "      <td>3</td>\n",
       "      <td>63</td>\n",
       "      <td>95.0</td>\n",
       "    </tr>\n",
       "    <tr>\n",
       "      <th>1921</th>\n",
       "      <td>33.0</td>\n",
       "      <td>Two-Handed Backhand</td>\n",
       "      <td>France</td>\n",
       "      <td>Gael</td>\n",
       "      <td>21</td>\n",
       "      <td>193.0</td>\n",
       "      <td>Right-Handed</td>\n",
       "      <td>Monfils</td>\n",
       "      <td>273</td>\n",
       "      <td>18932391.0</td>\n",
       "      <td>9</td>\n",
       "      <td>6</td>\n",
       "      <td>10</td>\n",
       "      <td>490</td>\n",
       "      <td>85.0</td>\n",
       "    </tr>\n",
       "    <tr>\n",
       "      <th>1920</th>\n",
       "      <td>29.0</td>\n",
       "      <td>Two-Handed Backhand</td>\n",
       "      <td>Belgium</td>\n",
       "      <td>David</td>\n",
       "      <td>9</td>\n",
       "      <td>180.0</td>\n",
       "      <td>Right-Handed</td>\n",
       "      <td>Goffin</td>\n",
       "      <td>175</td>\n",
       "      <td>14140753.0</td>\n",
       "      <td>10</td>\n",
       "      <td>7</td>\n",
       "      <td>4</td>\n",
       "      <td>274</td>\n",
       "      <td>70.0</td>\n",
       "    </tr>\n",
       "  </tbody>\n",
       "</table>\n",
       "</div>"
      ],
      "text/plain": [
       "       age             backhand   birthplace     f_name  finals_career     ht  \\\n",
       "0     32.0  Two-Handed Backhand       Serbia      Novak             34  188.0   \n",
       "1928  33.0  Two-Handed Backhand        Spain     Rafael             37  185.0   \n",
       "1927  38.0  One-Handed Backhand  Switzerland      Roger             54  185.0   \n",
       "1926  26.0  One-Handed Backhand      Austria    Dominic             10  185.0   \n",
       "1925  24.0  Two-Handed Backhand       Russia     Daniil              6  198.0   \n",
       "1924  21.0  One-Handed Backhand       Greece   Stefanos              5  193.0   \n",
       "1923  22.0  Two-Handed Backhand      Germany  Alexander              7  198.0   \n",
       "1922  23.0  Two-Handed Backhand        Italy     Matteo              1  196.0   \n",
       "1921  33.0  Two-Handed Backhand       France       Gael             21  193.0   \n",
       "1920  29.0  Two-Handed Backhand      Belgium      David              9  180.0   \n",
       "\n",
       "            l_hand      l_name  loss_career  prize_career  rank_2020  \\\n",
       "0     Right-Handed    Djokovic          187   143059955.0          1   \n",
       "1928   Left-Handed       Nadal          200   120583119.0          2   \n",
       "1927  Right-Handed     Federer          271   129946683.0          3   \n",
       "1926  Right-Handed       Thiem          151    23825893.0          4   \n",
       "1925  Right-Handed    Medvedev           79    11207951.0          5   \n",
       "1924  Right-Handed   Tsitsipas           66    10824098.0          6   \n",
       "1923  Right-Handed      Zverev          118    20978205.0          7   \n",
       "1922  Right-Handed  Berrettini           46     4418836.0          8   \n",
       "1921  Right-Handed     Monfils          273    18932391.0          9   \n",
       "1920  Right-Handed      Goffin          175    14140753.0         10   \n",
       "\n",
       "      rank_career  titles_career  win_career    wt  \n",
       "0               1             78         906  77.0  \n",
       "1928            1             84         985  85.0  \n",
       "1927            1            103        1242  85.0  \n",
       "1926            4             16         282  79.0  \n",
       "1925            4              7         138  83.0  \n",
       "1924            5              4         107  89.0  \n",
       "1923            3             11         228  90.0  \n",
       "1922            8              3          63  95.0  \n",
       "1921            6             10         490  85.0  \n",
       "1920            7              4         274  70.0  "
      ]
     },
     "execution_count": 21,
     "metadata": {},
     "output_type": "execute_result"
    }
   ],
   "source": [
    "Ten1.sort_values('rank_2020').head(10)"
   ]
  },
  {
   "cell_type": "markdown",
   "metadata": {},
   "source": [
    "### Countries with most players"
   ]
  },
  {
   "cell_type": "code",
   "execution_count": 25,
   "metadata": {},
   "outputs": [
    {
     "data": {
      "image/png": "[encoded data removed]",
      "text/plain": [
       "<Figure size 1440x720 with 1 Axes>"
      ]
     },
     "metadata": {
      "needs_background": "light"
     },
     "output_type": "display_data"
    }
   ],
   "source": [
    "plt.figure(figsize=(20,10))\n",
    "#Ten1.groupby('birthplace')['birthplace'].count().nlargest(25)\n",
    "Ten1.groupby('birthplace')['birthplace'].count().sort_values(ascending=False)[:25].plot.barh().invert_yaxis()"
   ]
  },
  {
   "cell_type": "code",
   "execution_count": 378,
   "metadata": {},
   "outputs": [
    {
     "data": {
      "text/plain": [
       "<matplotlib.axes._subplots.AxesSubplot at 0x7f8a42487b50>"
      ]
     },
     "execution_count": 378,
     "metadata": {},
     "output_type": "execute_result"
    },
    {
     "data": {
      "image/png": "[encoded data removed]",
      "text/plain": [
       "<Figure size 1440x720 with 1 Axes>"
      ]
     },
     "metadata": {
      "needs_background": "light"
     },
     "output_type": "display_data"
    }
   ],
   "source": [
    "plt.figure(figsize=(20,10))\n",
    "\n",
    "sorted_nb = Ten1.groupby(['birthplace'])['rank_2020'].count().sort_values(ascending=False)[:20]\n",
    "sns.boxplot(x=Ten1['birthplace'], y=Ten1['rank_2020'], order=list(sorted_nb.index))"
   ]
  },
  {
   "cell_type": "markdown",
   "metadata": {},
   "source": [
    "### Countries sorted by lowest ranking"
   ]
  },
  {
   "cell_type": "code",
   "execution_count": 269,
   "metadata": {},
   "outputs": [
    {
     "data": {
      "text/plain": [
       "birthplace\n",
       "Serbia                 1\n",
       "Spain                  2\n",
       "Switzerland            3\n",
       "Austria                4\n",
       "Russia                 5\n",
       "Greece                 6\n",
       "Germany                7\n",
       "Italy                  8\n",
       "France                 9\n",
       "Belgium               10\n",
       "Argentina             13\n",
       "Israel                15\n",
       "Canada                18\n",
       "USA                   19\n",
       "Australia             21\n",
       "Bulgaria              22\n",
       "Chile                 25\n",
       "Georgia               28\n",
       "Poland                29\n",
       "Japan                 30\n",
       "England               31\n",
       "Croatia               32\n",
       "Norway                34\n",
       "Montenegro            37\n",
       "Bosnia-Herzegovina    39\n",
       "Name: rank_2020, dtype: int64"
      ]
     },
     "execution_count": 269,
     "metadata": {},
     "output_type": "execute_result"
    }
   ],
   "source": [
    "Ten1.groupby('birthplace')['rank_2020'].min().nsmallest(25)\n",
    "#Ten1.groupby('birthplace')['rank_2020'].min().sort_values()[:25].plot.barh().invert_yaxis()"
   ]
  },
  {
   "cell_type": "code",
   "execution_count": 379,
   "metadata": {},
   "outputs": [
    {
     "data": {
      "text/plain": [
       "<matplotlib.axes._subplots.AxesSubplot at 0x7f8a3e799e90>"
      ]
     },
     "execution_count": 379,
     "metadata": {},
     "output_type": "execute_result"
    },
    {
     "data": {
      "image/png": "[encoded data removed]",
      "text/plain": [
       "<Figure size 1440x720 with 1 Axes>"
      ]
     },
     "metadata": {
      "needs_background": "light"
     },
     "output_type": "display_data"
    }
   ],
   "source": [
    "plt.figure(figsize=(20,10))\n",
    "\n",
    "sorted_nb = Ten1.groupby(['birthplace'])['rank_2020'].min().sort_values(ascending=True)[:20]\n",
    "sns.boxplot(x=Ten1['birthplace'], y=Ten1['rank_2020'], order=list(sorted_nb.index))"
   ]
  },
  {
   "cell_type": "markdown",
   "metadata": {},
   "source": [
    "### Left-hand/Backhand "
   ]
  },
  {
   "cell_type": "code",
   "execution_count": 380,
   "metadata": {},
   "outputs": [
    {
     "data": {
      "image/png": "[encoded data removed]",
      "text/plain": [
       "<Figure size 1080x720 with 2 Axes>"
      ]
     },
     "metadata": {
      "needs_background": "light"
     },
     "output_type": "display_data"
    }
   ],
   "source": [
    "fig, ax = plt.subplots(1, 2, figsize=(15, 10))\n",
    "for var, subplot in zip(['l_hand', 'backhand'], ax.flatten()):\n",
    "    sns.boxplot(x=var, y='rank_2020', data=Ten1, ax=subplot)"
   ]
  },
  {
   "cell_type": "code",
   "execution_count": 377,
   "metadata": {},
   "outputs": [
    {
     "data": {
      "image/png": "[encoded data removed]",
      "text/plain": [
       "<Figure size 1440x720 with 3 Axes>"
      ]
     },
     "metadata": {
      "needs_background": "light"
     },
     "output_type": "display_data"
    }
   ],
   "source": [
    "#Ten1.groupby(['backhand', 'l_hand'])['rank_2020'].agg(['count', 'mean', 'min']).sort_values('mean')\n",
    "\n",
    "\n",
    "#pd.pivot_table(Ten1[Ten1.l_hand != 'Ambidextrous'], values = 'rank_2020', index = 'backhand', columns = 'l_hand',aggfunc ={'count', 'mean', 'min'}).plot.bar(ax=ax)\n",
    "\n",
    "\n",
    "fig, ax = plt.subplots(1, 3, figsize=(20, 10))\n",
    "for var, subplot in zip(['count','mean','min'], ax.flatten()):\n",
    "    Ten1[Ten1.l_hand != 'Ambidextrous'].groupby(['backhand', 'l_hand'])['rank_2020'].agg(var).unstack('backhand').plot(kind='bar', ax=subplot)\n",
    "#     for label in subplot.get_xticklabels():\n",
    "#         label.set_rotation(90)"
   ]
  },
  {
   "cell_type": "markdown",
   "metadata": {},
   "source": [
    "## PCA"
   ]
  },
  {
   "cell_type": "code",
   "execution_count": 381,
   "metadata": {},
   "outputs": [
    {
     "data": {
      "text/plain": [
       "age              float64\n",
       "backhand          object\n",
       "birthplace        object\n",
       "f_name            object\n",
       "finals_career      int64\n",
       "ht               float64\n",
       "l_hand            object\n",
       "l_name            object\n",
       "loss_career        int64\n",
       "prize_career     float64\n",
       "rank_2020          int64\n",
       "rank_career        int64\n",
       "titles_career      int64\n",
       "win_career         int64\n",
       "wt               float64\n",
       "dtype: object"
      ]
     },
     "execution_count": 381,
     "metadata": {},
     "output_type": "execute_result"
    }
   ],
   "source": [
    "Ten1.dtypes"
   ]
  },
  {
   "cell_type": "code",
   "execution_count": 278,
   "metadata": {},
   "outputs": [
    {
     "data": {
      "image/png": "[encoded data removed]",
      "text/plain": [
       "<Figure size 1440x720 with 2 Axes>"
      ]
     },
     "metadata": {
      "needs_background": "light"
     },
     "output_type": "display_data"
    }
   ],
   "source": [
    "plt.figure(figsize=(20,10))\n",
    "corr = Ten1.corr()\n",
    "sns.heatmap(corr, annot=True)\n",
    "plt.show()"
   ]
  },
  {
   "cell_type": "code",
   "execution_count": 28,
   "metadata": {},
   "outputs": [],
   "source": [
    "from sklearn.decomposition import PCA \n",
    "from sklearn.preprocessing import StandardScaler"
   ]
  },
  {
   "cell_type": "code",
   "execution_count": 29,
   "metadata": {},
   "outputs": [
    {
     "data": {
      "text/html": [
       "<div>\n",
       "<style scoped>\n",
       "    .dataframe tbody tr th:only-of-type {\n",
       "        vertical-align: middle;\n",
       "    }\n",
       "\n",
       "    .dataframe tbody tr th {\n",
       "        vertical-align: top;\n",
       "    }\n",
       "\n",
       "    .dataframe thead th {\n",
       "        text-align: right;\n",
       "    }\n",
       "</style>\n",
       "<table border=\"1\" class=\"dataframe\">\n",
       "  <thead>\n",
       "    <tr style=\"text-align: right;\">\n",
       "      <th></th>\n",
       "      <th>age</th>\n",
       "      <th>finals_career</th>\n",
       "      <th>ht</th>\n",
       "      <th>loss_career</th>\n",
       "      <th>prize_career</th>\n",
       "      <th>rank_2020</th>\n",
       "      <th>rank_career</th>\n",
       "      <th>titles_career</th>\n",
       "      <th>win_career</th>\n",
       "      <th>wt</th>\n",
       "    </tr>\n",
       "  </thead>\n",
       "  <tbody>\n",
       "    <tr>\n",
       "      <th>0</th>\n",
       "      <td>32.0</td>\n",
       "      <td>34</td>\n",
       "      <td>188.0</td>\n",
       "      <td>187</td>\n",
       "      <td>143059955.0</td>\n",
       "      <td>1</td>\n",
       "      <td>1</td>\n",
       "      <td>78</td>\n",
       "      <td>906</td>\n",
       "      <td>77.0</td>\n",
       "    </tr>\n",
       "    <tr>\n",
       "      <th>1</th>\n",
       "      <td>38.0</td>\n",
       "      <td>11</td>\n",
       "      <td>188.0</td>\n",
       "      <td>448</td>\n",
       "      <td>17350913.0</td>\n",
       "      <td>53</td>\n",
       "      <td>12</td>\n",
       "      <td>7</td>\n",
       "      <td>488</td>\n",
       "      <td>88.0</td>\n",
       "    </tr>\n",
       "    <tr>\n",
       "      <th>2</th>\n",
       "      <td>22.0</td>\n",
       "      <td>2</td>\n",
       "      <td>198.0</td>\n",
       "      <td>29</td>\n",
       "      <td>1347179.0</td>\n",
       "      <td>55</td>\n",
       "      <td>48</td>\n",
       "      <td>0</td>\n",
       "      <td>25</td>\n",
       "      <td>77.0</td>\n",
       "    </tr>\n",
       "  </tbody>\n",
       "</table>\n",
       "</div>"
      ],
      "text/plain": [
       "    age  finals_career     ht  loss_career  prize_career  rank_2020  \\\n",
       "0  32.0             34  188.0          187   143059955.0          1   \n",
       "1  38.0             11  188.0          448    17350913.0         53   \n",
       "2  22.0              2  198.0           29     1347179.0         55   \n",
       "\n",
       "   rank_career  titles_career  win_career    wt  \n",
       "0            1             78         906  77.0  \n",
       "1           12              7         488  88.0  \n",
       "2           48              0          25  77.0  "
      ]
     },
     "execution_count": 29,
     "metadata": {},
     "output_type": "execute_result"
    }
   ],
   "source": [
    "# Select numeric cols\n",
    "\n",
    "Ten1_cont = Ten1.select_dtypes([np.number])\n",
    "Ten1_cont.head(3)"
   ]
  },
  {
   "cell_type": "code",
   "execution_count": 75,
   "metadata": {},
   "outputs": [
    {
     "data": {
      "text/html": [
       "<div>\n",
       "<style scoped>\n",
       "    .dataframe tbody tr th:only-of-type {\n",
       "        vertical-align: middle;\n",
       "    }\n",
       "\n",
       "    .dataframe tbody tr th {\n",
       "        vertical-align: top;\n",
       "    }\n",
       "\n",
       "    .dataframe thead th {\n",
       "        text-align: right;\n",
       "    }\n",
       "</style>\n",
       "<table border=\"1\" class=\"dataframe\">\n",
       "  <thead>\n",
       "    <tr style=\"text-align: right;\">\n",
       "      <th></th>\n",
       "      <th>age</th>\n",
       "      <th>finals_career</th>\n",
       "      <th>ht</th>\n",
       "      <th>loss_career</th>\n",
       "      <th>prize_career</th>\n",
       "      <th>rank_2020</th>\n",
       "      <th>rank_career</th>\n",
       "      <th>titles_career</th>\n",
       "      <th>win_career</th>\n",
       "      <th>wt</th>\n",
       "    </tr>\n",
       "  </thead>\n",
       "  <tbody>\n",
       "    <tr>\n",
       "      <th>0</th>\n",
       "      <td>1.429385</td>\n",
       "      <td>9.784480</td>\n",
       "      <td>0.251708</td>\n",
       "      <td>2.326025</td>\n",
       "      <td>16.108112</td>\n",
       "      <td>-1.258411</td>\n",
       "      <td>-1.108403</td>\n",
       "      <td>13.079742</td>\n",
       "      <td>8.434423</td>\n",
       "      <td>-0.168915</td>\n",
       "    </tr>\n",
       "    <tr>\n",
       "      <th>1</th>\n",
       "      <td>2.796787</td>\n",
       "      <td>3.012221</td>\n",
       "      <td>0.251708</td>\n",
       "      <td>6.180683</td>\n",
       "      <td>1.768202</td>\n",
       "      <td>-1.149577</td>\n",
       "      <td>-1.076284</td>\n",
       "      <td>1.035900</td>\n",
       "      <td>4.396359</td>\n",
       "      <td>1.208265</td>\n",
       "    </tr>\n",
       "    <tr>\n",
       "      <th>2</th>\n",
       "      <td>-0.849618</td>\n",
       "      <td>0.362207</td>\n",
       "      <td>0.843737</td>\n",
       "      <td>-0.007446</td>\n",
       "      <td>-0.057379</td>\n",
       "      <td>-1.145391</td>\n",
       "      <td>-0.971167</td>\n",
       "      <td>-0.151521</td>\n",
       "      <td>-0.076424</td>\n",
       "      <td>-0.168915</td>\n",
       "    </tr>\n",
       "    <tr>\n",
       "      <th>3</th>\n",
       "      <td>0.517784</td>\n",
       "      <td>0.067761</td>\n",
       "      <td>0.251708</td>\n",
       "      <td>0.642382</td>\n",
       "      <td>0.127844</td>\n",
       "      <td>-1.107717</td>\n",
       "      <td>-1.020805</td>\n",
       "      <td>0.018110</td>\n",
       "      <td>0.396937</td>\n",
       "      <td>0.457076</td>\n",
       "    </tr>\n",
       "    <tr>\n",
       "      <th>4</th>\n",
       "      <td>-0.393817</td>\n",
       "      <td>-0.226685</td>\n",
       "      <td>0.429317</td>\n",
       "      <td>0.081167</td>\n",
       "      <td>-0.057939</td>\n",
       "      <td>-1.151670</td>\n",
       "      <td>-0.977007</td>\n",
       "      <td>0.018110</td>\n",
       "      <td>-0.076424</td>\n",
       "      <td>-0.294113</td>\n",
       "    </tr>\n",
       "  </tbody>\n",
       "</table>\n",
       "</div>"
      ],
      "text/plain": [
       "        age  finals_career        ht  loss_career  prize_career  rank_2020  \\\n",
       "0  1.429385       9.784480  0.251708     2.326025     16.108112  -1.258411   \n",
       "1  2.796787       3.012221  0.251708     6.180683      1.768202  -1.149577   \n",
       "2 -0.849618       0.362207  0.843737    -0.007446     -0.057379  -1.145391   \n",
       "3  0.517784       0.067761  0.251708     0.642382      0.127844  -1.107717   \n",
       "4 -0.393817      -0.226685  0.429317     0.081167     -0.057939  -1.151670   \n",
       "\n",
       "   rank_career  titles_career  win_career        wt  \n",
       "0    -1.108403      13.079742    8.434423 -0.168915  \n",
       "1    -1.076284       1.035900    4.396359  1.208265  \n",
       "2    -0.971167      -0.151521   -0.076424 -0.168915  \n",
       "3    -1.020805       0.018110    0.396937  0.457076  \n",
       "4    -0.977007       0.018110   -0.076424 -0.294113  "
      ]
     },
     "execution_count": 75,
     "metadata": {},
     "output_type": "execute_result"
    }
   ],
   "source": [
    "# Standardize the continous col before PCA\n",
    "\n",
    "scaler = StandardScaler()\n",
    "Ten1_cont_std = scaler.fit_transform(Ten1_cont)\n",
    "Ten1_cont_std = pd.DataFrame(Ten1_cont_std, columns=Ten1_cont.columns)\n",
    "Ten1_cont_std.head()"
   ]
  },
  {
   "cell_type": "markdown",
   "metadata": {},
   "source": [
    "### Generate PCA's"
   ]
  },
  {
   "cell_type": "code",
   "execution_count": 76,
   "metadata": {},
   "outputs": [],
   "source": [
    "# PCA\n",
    "pca = PCA(n_components=Ten1_cont_std.shape[1])  "
   ]
  },
  {
   "cell_type": "code",
   "execution_count": 77,
   "metadata": {
    "scrolled": false
   },
   "outputs": [
    {
     "data": {
      "text/html": [
       "<div>\n",
       "<style scoped>\n",
       "    .dataframe tbody tr th:only-of-type {\n",
       "        vertical-align: middle;\n",
       "    }\n",
       "\n",
       "    .dataframe tbody tr th {\n",
       "        vertical-align: top;\n",
       "    }\n",
       "\n",
       "    .dataframe thead th {\n",
       "        text-align: right;\n",
       "    }\n",
       "</style>\n",
       "<table border=\"1\" class=\"dataframe\">\n",
       "  <thead>\n",
       "    <tr style=\"text-align: right;\">\n",
       "      <th></th>\n",
       "      <th>PC1</th>\n",
       "      <th>PC2</th>\n",
       "      <th>PC3</th>\n",
       "      <th>PC4</th>\n",
       "      <th>PC5</th>\n",
       "      <th>PC6</th>\n",
       "      <th>PC7</th>\n",
       "      <th>PC8</th>\n",
       "      <th>PC9</th>\n",
       "      <th>PC10</th>\n",
       "    </tr>\n",
       "  </thead>\n",
       "  <tbody>\n",
       "    <tr>\n",
       "      <th>0</th>\n",
       "      <td>21.328691</td>\n",
       "      <td>9.693992</td>\n",
       "      <td>-1.109932</td>\n",
       "      <td>4.873511</td>\n",
       "      <td>-0.015538</td>\n",
       "      <td>4.688726</td>\n",
       "      <td>-0.102072</td>\n",
       "      <td>2.807830</td>\n",
       "      <td>1.958993</td>\n",
       "      <td>-0.445053</td>\n",
       "    </tr>\n",
       "    <tr>\n",
       "      <th>1</th>\n",
       "      <td>7.905777</td>\n",
       "      <td>-1.048808</td>\n",
       "      <td>0.300794</td>\n",
       "      <td>-2.964486</td>\n",
       "      <td>-0.180066</td>\n",
       "      <td>-3.170934</td>\n",
       "      <td>-0.093904</td>\n",
       "      <td>0.076698</td>\n",
       "      <td>0.208602</td>\n",
       "      <td>-0.041080</td>\n",
       "    </tr>\n",
       "    <tr>\n",
       "      <th>2</th>\n",
       "      <td>0.334909</td>\n",
       "      <td>-1.105815</td>\n",
       "      <td>-0.030814</td>\n",
       "      <td>1.428205</td>\n",
       "      <td>-0.495979</td>\n",
       "      <td>-0.253839</td>\n",
       "      <td>0.184844</td>\n",
       "      <td>-0.345958</td>\n",
       "      <td>0.166325</td>\n",
       "      <td>0.114210</td>\n",
       "    </tr>\n",
       "    <tr>\n",
       "      <th>3</th>\n",
       "      <td>1.151105</td>\n",
       "      <td>-1.411876</td>\n",
       "      <td>0.179833</td>\n",
       "      <td>0.073636</td>\n",
       "      <td>0.116984</td>\n",
       "      <td>-0.059386</td>\n",
       "      <td>-0.101656</td>\n",
       "      <td>0.112336</td>\n",
       "      <td>-0.022928</td>\n",
       "      <td>-0.063595</td>\n",
       "    </tr>\n",
       "    <tr>\n",
       "      <th>4</th>\n",
       "      <td>0.251368</td>\n",
       "      <td>-1.158260</td>\n",
       "      <td>0.398485</td>\n",
       "      <td>1.018769</td>\n",
       "      <td>-0.365912</td>\n",
       "      <td>-0.023432</td>\n",
       "      <td>0.047942</td>\n",
       "      <td>0.153796</td>\n",
       "      <td>-0.104014</td>\n",
       "      <td>0.040603</td>\n",
       "    </tr>\n",
       "    <tr>\n",
       "      <th>5</th>\n",
       "      <td>1.952745</td>\n",
       "      <td>-1.041196</td>\n",
       "      <td>1.200165</td>\n",
       "      <td>-0.392766</td>\n",
       "      <td>-0.624656</td>\n",
       "      <td>-0.543474</td>\n",
       "      <td>-0.175704</td>\n",
       "      <td>-0.382770</td>\n",
       "      <td>0.310807</td>\n",
       "      <td>0.105849</td>\n",
       "    </tr>\n",
       "    <tr>\n",
       "      <th>6</th>\n",
       "      <td>0.330735</td>\n",
       "      <td>-0.788073</td>\n",
       "      <td>1.327341</td>\n",
       "      <td>0.727805</td>\n",
       "      <td>-0.504715</td>\n",
       "      <td>0.259045</td>\n",
       "      <td>-0.072614</td>\n",
       "      <td>-0.136468</td>\n",
       "      <td>-0.030131</td>\n",
       "      <td>0.059715</td>\n",
       "    </tr>\n",
       "    <tr>\n",
       "      <th>7</th>\n",
       "      <td>1.035720</td>\n",
       "      <td>-0.994452</td>\n",
       "      <td>1.819230</td>\n",
       "      <td>-0.279877</td>\n",
       "      <td>-0.605810</td>\n",
       "      <td>-0.009043</td>\n",
       "      <td>-0.235738</td>\n",
       "      <td>0.410852</td>\n",
       "      <td>-0.070117</td>\n",
       "      <td>-0.027275</td>\n",
       "    </tr>\n",
       "    <tr>\n",
       "      <th>8</th>\n",
       "      <td>8.583856</td>\n",
       "      <td>-0.564966</td>\n",
       "      <td>0.001064</td>\n",
       "      <td>-2.431506</td>\n",
       "      <td>0.088857</td>\n",
       "      <td>-3.313114</td>\n",
       "      <td>0.065352</td>\n",
       "      <td>-1.226884</td>\n",
       "      <td>0.430245</td>\n",
       "      <td>-0.258069</td>\n",
       "    </tr>\n",
       "    <tr>\n",
       "      <th>9</th>\n",
       "      <td>3.715366</td>\n",
       "      <td>-0.950308</td>\n",
       "      <td>1.056513</td>\n",
       "      <td>-1.236668</td>\n",
       "      <td>-0.253708</td>\n",
       "      <td>-0.651786</td>\n",
       "      <td>-0.292705</td>\n",
       "      <td>0.291989</td>\n",
       "      <td>-0.277242</td>\n",
       "      <td>-0.017612</td>\n",
       "    </tr>\n",
       "  </tbody>\n",
       "</table>\n",
       "</div>"
      ],
      "text/plain": [
       "         PC1       PC2       PC3       PC4       PC5       PC6       PC7  \\\n",
       "0  21.328691  9.693992 -1.109932  4.873511 -0.015538  4.688726 -0.102072   \n",
       "1   7.905777 -1.048808  0.300794 -2.964486 -0.180066 -3.170934 -0.093904   \n",
       "2   0.334909 -1.105815 -0.030814  1.428205 -0.495979 -0.253839  0.184844   \n",
       "3   1.151105 -1.411876  0.179833  0.073636  0.116984 -0.059386 -0.101656   \n",
       "4   0.251368 -1.158260  0.398485  1.018769 -0.365912 -0.023432  0.047942   \n",
       "5   1.952745 -1.041196  1.200165 -0.392766 -0.624656 -0.543474 -0.175704   \n",
       "6   0.330735 -0.788073  1.327341  0.727805 -0.504715  0.259045 -0.072614   \n",
       "7   1.035720 -0.994452  1.819230 -0.279877 -0.605810 -0.009043 -0.235738   \n",
       "8   8.583856 -0.564966  0.001064 -2.431506  0.088857 -3.313114  0.065352   \n",
       "9   3.715366 -0.950308  1.056513 -1.236668 -0.253708 -0.651786 -0.292705   \n",
       "\n",
       "        PC8       PC9      PC10  \n",
       "0  2.807830  1.958993 -0.445053  \n",
       "1  0.076698  0.208602 -0.041080  \n",
       "2 -0.345958  0.166325  0.114210  \n",
       "3  0.112336 -0.022928 -0.063595  \n",
       "4  0.153796 -0.104014  0.040603  \n",
       "5 -0.382770  0.310807  0.105849  \n",
       "6 -0.136468 -0.030131  0.059715  \n",
       "7  0.410852 -0.070117 -0.027275  \n",
       "8 -1.226884  0.430245 -0.258069  \n",
       "9  0.291989 -0.277242 -0.017612  "
      ]
     },
     "execution_count": 77,
     "metadata": {},
     "output_type": "execute_result"
    }
   ],
   "source": [
    "pca.fit(Ten1_cont_std) \n",
    "Ten1_pca = pd.DataFrame(pca.transform(Ten1_cont_std), \n",
    "columns=['PC1','PC2','PC3','PC4','PC5','PC6','PC7','PC8','PC9','PC10']) \n",
    "Ten1_pca.head(10)"
   ]
  },
  {
   "cell_type": "markdown",
   "metadata": {},
   "source": [
    "### Scree based on variance"
   ]
  },
  {
   "cell_type": "code",
   "execution_count": 78,
   "metadata": {},
   "outputs": [
    {
     "data": {
      "image/png": "[encoded data removed]",
      "text/plain": [
       "<Figure size 432x288 with 1 Axes>"
      ]
     },
     "metadata": {
      "needs_background": "light"
     },
     "output_type": "display_data"
    }
   ],
   "source": [
    "import matplotlib.pyplot as plt \n",
    "\n",
    "plt.plot(pca.explained_variance_ratio_) \n",
    "plt.xlabel('number of components') \n",
    "plt.ylabel('explained variance') \n",
    "plt.show() \n"
   ]
  },
  {
   "cell_type": "code",
   "execution_count": 79,
   "metadata": {
    "scrolled": true
   },
   "outputs": [
    {
     "data": {
      "text/html": [
       "<div>\n",
       "<style scoped>\n",
       "    .dataframe tbody tr th:only-of-type {\n",
       "        vertical-align: middle;\n",
       "    }\n",
       "\n",
       "    .dataframe tbody tr th {\n",
       "        vertical-align: top;\n",
       "    }\n",
       "\n",
       "    .dataframe thead th {\n",
       "        text-align: right;\n",
       "    }\n",
       "</style>\n",
       "<table border=\"1\" class=\"dataframe\">\n",
       "  <thead>\n",
       "    <tr style=\"text-align: right;\">\n",
       "      <th></th>\n",
       "      <th>PC1</th>\n",
       "      <th>PC2</th>\n",
       "      <th>PC3</th>\n",
       "      <th>PC4</th>\n",
       "      <th>PC5</th>\n",
       "      <th>PC6</th>\n",
       "      <th>PC7</th>\n",
       "      <th>PC8</th>\n",
       "      <th>PC9</th>\n",
       "      <th>PC10</th>\n",
       "    </tr>\n",
       "  </thead>\n",
       "  <tbody>\n",
       "    <tr>\n",
       "      <th>age</th>\n",
       "      <td>0.234281</td>\n",
       "      <td>-0.211463</td>\n",
       "      <td>0.105316</td>\n",
       "      <td>-0.735818</td>\n",
       "      <td>-0.119367</td>\n",
       "      <td>0.484935</td>\n",
       "      <td>-0.310120</td>\n",
       "      <td>-0.044968</td>\n",
       "      <td>-0.001506</td>\n",
       "      <td>-0.016343</td>\n",
       "    </tr>\n",
       "    <tr>\n",
       "      <th>finals_career</th>\n",
       "      <td>0.428407</td>\n",
       "      <td>0.222238</td>\n",
       "      <td>-0.040639</td>\n",
       "      <td>0.076103</td>\n",
       "      <td>0.008210</td>\n",
       "      <td>-0.035326</td>\n",
       "      <td>0.015621</td>\n",
       "      <td>-0.775459</td>\n",
       "      <td>0.278966</td>\n",
       "      <td>0.280922</td>\n",
       "    </tr>\n",
       "    <tr>\n",
       "      <th>ht</th>\n",
       "      <td>0.062333</td>\n",
       "      <td>-0.261719</td>\n",
       "      <td>-0.671354</td>\n",
       "      <td>0.129137</td>\n",
       "      <td>-0.677859</td>\n",
       "      <td>0.017148</td>\n",
       "      <td>-0.020786</td>\n",
       "      <td>-0.001945</td>\n",
       "      <td>-0.001595</td>\n",
       "      <td>-0.000779</td>\n",
       "    </tr>\n",
       "    <tr>\n",
       "      <th>loss_career</th>\n",
       "      <td>0.363552</td>\n",
       "      <td>-0.141940</td>\n",
       "      <td>0.101941</td>\n",
       "      <td>-0.323784</td>\n",
       "      <td>-0.095692</td>\n",
       "      <td>-0.674808</td>\n",
       "      <td>0.088893</td>\n",
       "      <td>0.316409</td>\n",
       "      <td>0.050389</td>\n",
       "      <td>0.396708</td>\n",
       "    </tr>\n",
       "    <tr>\n",
       "      <th>prize_career</th>\n",
       "      <td>0.407594</td>\n",
       "      <td>0.271709</td>\n",
       "      <td>-0.048575</td>\n",
       "      <td>0.181043</td>\n",
       "      <td>0.018956</td>\n",
       "      <td>0.249459</td>\n",
       "      <td>-0.005958</td>\n",
       "      <td>0.485033</td>\n",
       "      <td>0.635219</td>\n",
       "      <td>-0.153365</td>\n",
       "    </tr>\n",
       "    <tr>\n",
       "      <th>rank_2020</th>\n",
       "      <td>-0.209031</td>\n",
       "      <td>0.503187</td>\n",
       "      <td>-0.252616</td>\n",
       "      <td>-0.462845</td>\n",
       "      <td>-0.069547</td>\n",
       "      <td>0.069133</td>\n",
       "      <td>0.644415</td>\n",
       "      <td>0.010154</td>\n",
       "      <td>0.006225</td>\n",
       "      <td>0.006283</td>\n",
       "    </tr>\n",
       "    <tr>\n",
       "      <th>rank_career</th>\n",
       "      <td>-0.230894</td>\n",
       "      <td>0.558392</td>\n",
       "      <td>-0.238892</td>\n",
       "      <td>-0.157103</td>\n",
       "      <td>-0.016036</td>\n",
       "      <td>-0.273765</td>\n",
       "      <td>-0.690418</td>\n",
       "      <td>0.033085</td>\n",
       "      <td>0.012485</td>\n",
       "      <td>0.001733</td>\n",
       "    </tr>\n",
       "    <tr>\n",
       "      <th>titles_career</th>\n",
       "      <td>0.392031</td>\n",
       "      <td>0.311558</td>\n",
       "      <td>-0.070015</td>\n",
       "      <td>0.208667</td>\n",
       "      <td>0.033686</td>\n",
       "      <td>0.302635</td>\n",
       "      <td>-0.023393</td>\n",
       "      <td>0.219573</td>\n",
       "      <td>-0.646673</td>\n",
       "      <td>0.375674</td>\n",
       "    </tr>\n",
       "    <tr>\n",
       "      <th>win_career</th>\n",
       "      <td>0.444200</td>\n",
       "      <td>0.115487</td>\n",
       "      <td>0.009250</td>\n",
       "      <td>-0.061602</td>\n",
       "      <td>-0.031149</td>\n",
       "      <td>-0.271604</td>\n",
       "      <td>0.051329</td>\n",
       "      <td>-0.107740</td>\n",
       "      <td>-0.312639</td>\n",
       "      <td>-0.773785</td>\n",
       "    </tr>\n",
       "    <tr>\n",
       "      <th>wt</th>\n",
       "      <td>0.106692</td>\n",
       "      <td>-0.260805</td>\n",
       "      <td>-0.630808</td>\n",
       "      <td>-0.110669</td>\n",
       "      <td>0.713776</td>\n",
       "      <td>-0.024854</td>\n",
       "      <td>-0.009085</td>\n",
       "      <td>0.015758</td>\n",
       "      <td>0.002673</td>\n",
       "      <td>-0.000293</td>\n",
       "    </tr>\n",
       "  </tbody>\n",
       "</table>\n",
       "</div>"
      ],
      "text/plain": [
       "                    PC1       PC2       PC3       PC4       PC5       PC6  \\\n",
       "age            0.234281 -0.211463  0.105316 -0.735818 -0.119367  0.484935   \n",
       "finals_career  0.428407  0.222238 -0.040639  0.076103  0.008210 -0.035326   \n",
       "ht             0.062333 -0.261719 -0.671354  0.129137 -0.677859  0.017148   \n",
       "loss_career    0.363552 -0.141940  0.101941 -0.323784 -0.095692 -0.674808   \n",
       "prize_career   0.407594  0.271709 -0.048575  0.181043  0.018956  0.249459   \n",
       "rank_2020     -0.209031  0.503187 -0.252616 -0.462845 -0.069547  0.069133   \n",
       "rank_career   -0.230894  0.558392 -0.238892 -0.157103 -0.016036 -0.273765   \n",
       "titles_career  0.392031  0.311558 -0.070015  0.208667  0.033686  0.302635   \n",
       "win_career     0.444200  0.115487  0.009250 -0.061602 -0.031149 -0.271604   \n",
       "wt             0.106692 -0.260805 -0.630808 -0.110669  0.713776 -0.024854   \n",
       "\n",
       "                    PC7       PC8       PC9      PC10  \n",
       "age           -0.310120 -0.044968 -0.001506 -0.016343  \n",
       "finals_career  0.015621 -0.775459  0.278966  0.280922  \n",
       "ht            -0.020786 -0.001945 -0.001595 -0.000779  \n",
       "loss_career    0.088893  0.316409  0.050389  0.396708  \n",
       "prize_career  -0.005958  0.485033  0.635219 -0.153365  \n",
       "rank_2020      0.644415  0.010154  0.006225  0.006283  \n",
       "rank_career   -0.690418  0.033085  0.012485  0.001733  \n",
       "titles_career -0.023393  0.219573 -0.646673  0.375674  \n",
       "win_career     0.051329 -0.107740 -0.312639 -0.773785  \n",
       "wt            -0.009085  0.015758  0.002673 -0.000293  "
      ]
     },
     "execution_count": 79,
     "metadata": {},
     "output_type": "execute_result"
    }
   ],
   "source": [
    "loadings = pd.DataFrame(pca.components_.T, \n",
    "columns=['PC1','PC2','PC3','PC4','PC5','PC6','PC7','PC8','PC9','PC10'], index=Ten1_cont.columns) \n",
    "loadings  \n"
   ]
  },
  {
   "cell_type": "markdown",
   "metadata": {},
   "source": [
    "### Scree using eigenvalues"
   ]
  },
  {
   "cell_type": "code",
   "execution_count": 80,
   "metadata": {},
   "outputs": [],
   "source": [
    "cov_matrix = np.dot(Ten1_cont_std.T, Ten1_cont_std) / Ten1_cont.shape[0] \n",
    "eigenvalues = [np.dot(eigenvector.T, np.dot(cov_matrix, eigenvector)) for eigenvector in pca.components_]  \n"
   ]
  },
  {
   "cell_type": "code",
   "execution_count": 81,
   "metadata": {},
   "outputs": [
    {
     "data": {
      "image/png": "[encoded data removed]",
      "text/plain": [
       "<Figure size 432x288 with 1 Axes>"
      ]
     },
     "metadata": {
      "needs_background": "light"
     },
     "output_type": "display_data"
    }
   ],
   "source": [
    "plt.plot(eigenvalues) \n",
    "plt.xlabel('number of components') \n",
    "plt.ylabel('eigenvalue')  \n",
    "plt.show() \n"
   ]
  },
  {
   "cell_type": "markdown",
   "metadata": {},
   "source": [
    "### Scatter plot of 2 PCA's"
   ]
  },
  {
   "cell_type": "code",
   "execution_count": 86,
   "metadata": {},
   "outputs": [
    {
     "data": {
      "text/plain": [
       "<matplotlib.collections.PathCollection at 0x7fd9bfea2b50>"
      ]
     },
     "execution_count": 86,
     "metadata": {},
     "output_type": "execute_result"
    },
    {
     "data": {
      "image/png": "[encoded data removed]",
      "text/plain": [
       "<Figure size 1440x720 with 1 Axes>"
      ]
     },
     "metadata": {
      "needs_background": "light"
     },
     "output_type": "display_data"
    }
   ],
   "source": [
    "plt.figure(figsize=(20,10))\n",
    "plt.scatter(Ten1_pca.iloc[:,0], Ten1_pca.iloc[:,1])"
   ]
  },
  {
   "cell_type": "markdown",
   "metadata": {},
   "source": [
    "### Heatmap of loadings"
   ]
  },
  {
   "cell_type": "code",
   "execution_count": 113,
   "metadata": {},
   "outputs": [
    {
     "data": {
      "image/png": "[encoded data removed]",
      "text/plain": [
       "<Figure size 1800x720 with 2 Axes>"
      ]
     },
     "metadata": {
      "needs_background": "light"
     },
     "output_type": "display_data"
    }
   ],
   "source": [
    "plt.figure(figsize=(25,10))\n",
    "ax = sns.heatmap(pca.components_.T,\n",
    "                 cmap='YlGnBu',\n",
    "                 xticklabels=[ \"PCA\"+str(x) for x in range(1,pca.n_components_+1)],\n",
    "                 yticklabels=list(Ten1_cont.columns),\n",
    "                 cbar_kws={\"orientation\": \"vertical\"})\n",
    "ax.set_aspect(\"equal\")\n",
    "plt.show()"
   ]
  },
  {
   "cell_type": "markdown",
   "metadata": {},
   "source": [
    "### Bipolot"
   ]
  },
  {
   "cell_type": "code",
   "execution_count": 101,
   "metadata": {},
   "outputs": [],
   "source": [
    "def biplot(score,coeff,pcax,pcay,labels=None):\n",
    "    pca1=pcax-1\n",
    "    pca2=pcay-1\n",
    "    xs = score.iloc[:,pca1]\n",
    "    ys = score.iloc[:,pca2]\n",
    "    n=score.shape[1]\n",
    "    scalex = 1.0/(xs.max()- xs.min())\n",
    "    scaley = 1.0/(ys.max()- ys.min())\n",
    "    plt.scatter(xs*scalex,ys*scaley)\n",
    "    for i in range(n):\n",
    "        plt.arrow(0, 0, coeff[i,pca1], coeff[i,pca2],color='r',alpha=0.5) \n",
    "        if labels is None:\n",
    "            plt.text(coeff[i,pca1]* 1.15, coeff[i,pca2] * 1.15, \"Var\"+str(i+1), color='g', ha='center', va='center')\n",
    "        else:\n",
    "            plt.text(coeff[i,pca1]* 1.15, coeff[i,pca2] * 1.15, labels[i], color='g', ha='center', va='center')\n",
    "    plt.xlim(-1,1)\n",
    "    plt.ylim(-1,1)\n",
    "    plt.xlabel(\"PC{}\".format(pcax))\n",
    "    plt.ylabel(\"PC{}\".format(pcay))\n",
    "    plt.grid()"
   ]
  },
  {
   "cell_type": "code",
   "execution_count": 104,
   "metadata": {},
   "outputs": [
    {
     "data": {
      "image/png": "[encoded data removed]",
      "text/plain": [
       "<Figure size 1440x720 with 1 Axes>"
      ]
     },
     "metadata": {
      "needs_background": "light"
     },
     "output_type": "display_data"
    }
   ],
   "source": [
    "plt.figure(figsize=(20,10))\n",
    "biplot(Ten1_pca,pca.components_,1,2,labels=Ten1_cont.columns)"
   ]
  },
  {
   "cell_type": "code",
   "execution_count": null,
   "metadata": {},
   "outputs": [],
   "source": []
  }
 ],
 "metadata": {
  "kernelspec": {
   "display_name": "Python 3",
   "language": "python",
   "name": "python3"
  },
  "language_info": {
   "codemirror_mode": {
    "name": "ipython",
    "version": 3
   },
   "file_extension": ".py",
   "mimetype": "text/x-python",
   "name": "python",
   "nbconvert_exporter": "python",
   "pygments_lexer": "ipython3",
   "version": "3.7.6"
  }
 },
 "nbformat": 4,
 "nbformat_minor": 2
}
