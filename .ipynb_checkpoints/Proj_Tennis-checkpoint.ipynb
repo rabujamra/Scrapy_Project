{
 "cells": [
  {
   "cell_type": "code",
   "execution_count": 93,
   "metadata": {},
   "outputs": [],
   "source": [
    "import pandas as pd\n",
    "import numpy as np\n",
    "import matplotlib.pyplot as plt\n",
    "import seaborn as sns\n"
   ]
  },
  {
   "cell_type": "code",
   "execution_count": 94,
   "metadata": {},
   "outputs": [],
   "source": [
    "Tennis = pd.read_csv(\"Proj_Tennis/Tennis.csv\") "
   ]
  },
  {
   "cell_type": "code",
   "execution_count": 95,
   "metadata": {
    "scrolled": true
   },
   "outputs": [
    {
     "data": {
      "text/html": [
       "<div>\n",
       "<style scoped>\n",
       "    .dataframe tbody tr th:only-of-type {\n",
       "        vertical-align: middle;\n",
       "    }\n",
       "\n",
       "    .dataframe tbody tr th {\n",
       "        vertical-align: top;\n",
       "    }\n",
       "\n",
       "    .dataframe thead th {\n",
       "        text-align: right;\n",
       "    }\n",
       "</style>\n",
       "<table border=\"1\" class=\"dataframe\">\n",
       "  <thead>\n",
       "    <tr style=\"text-align: right;\">\n",
       "      <th></th>\n",
       "      <th>age</th>\n",
       "      <th>backhand</th>\n",
       "      <th>birthplace</th>\n",
       "      <th>f_name</th>\n",
       "      <th>finals_career</th>\n",
       "      <th>ht</th>\n",
       "      <th>l_hand</th>\n",
       "      <th>l_name</th>\n",
       "      <th>loss_career</th>\n",
       "      <th>prize_career</th>\n",
       "      <th>rank_2020</th>\n",
       "      <th>rank_career</th>\n",
       "      <th>titles_career</th>\n",
       "      <th>win_career</th>\n",
       "      <th>wt</th>\n",
       "      <th>yr_pro</th>\n",
       "    </tr>\n",
       "  </thead>\n",
       "  <tbody>\n",
       "    <tr>\n",
       "      <th>0</th>\n",
       "      <td>32.0</td>\n",
       "      <td>Two-Handed Backhand</td>\n",
       "      <td>Serbia</td>\n",
       "      <td>Novak</td>\n",
       "      <td>34</td>\n",
       "      <td>(188cm)</td>\n",
       "      <td>Right-Handed</td>\n",
       "      <td>Djokovic</td>\n",
       "      <td>187</td>\n",
       "      <td>143059955.0</td>\n",
       "      <td>1</td>\n",
       "      <td>1</td>\n",
       "      <td>78</td>\n",
       "      <td>906</td>\n",
       "      <td>(77kg)</td>\n",
       "      <td>2003.0</td>\n",
       "    </tr>\n",
       "    <tr>\n",
       "      <th>1</th>\n",
       "      <td>21.0</td>\n",
       "      <td>Two-Handed Backhand</td>\n",
       "      <td>Norway</td>\n",
       "      <td>Casper</td>\n",
       "      <td>1</td>\n",
       "      <td>(183cm)</td>\n",
       "      <td>Right-Handed</td>\n",
       "      <td>Ruud</td>\n",
       "      <td>43</td>\n",
       "      <td>1699038.0</td>\n",
       "      <td>45</td>\n",
       "      <td>45</td>\n",
       "      <td>0</td>\n",
       "      <td>42</td>\n",
       "      <td>(77kg)</td>\n",
       "      <td>2015.0</td>\n",
       "    </tr>\n",
       "    <tr>\n",
       "      <th>2</th>\n",
       "      <td>31.0</td>\n",
       "      <td>Two-Handed Backhand</td>\n",
       "      <td>France</td>\n",
       "      <td>Adrian</td>\n",
       "      <td>8</td>\n",
       "      <td>(180cm)</td>\n",
       "      <td>Left-Handed</td>\n",
       "      <td>Mannarino</td>\n",
       "      <td>223</td>\n",
       "      <td>7173409.0</td>\n",
       "      <td>44</td>\n",
       "      <td>22</td>\n",
       "      <td>1</td>\n",
       "      <td>190</td>\n",
       "      <td>(79kg)</td>\n",
       "      <td>2004.0</td>\n",
       "    </tr>\n",
       "    <tr>\n",
       "      <th>3</th>\n",
       "      <td>27.0</td>\n",
       "      <td>Two-Handed Backhand</td>\n",
       "      <td>Serbia</td>\n",
       "      <td>Filip</td>\n",
       "      <td>3</td>\n",
       "      <td>(185cm)</td>\n",
       "      <td>Right-Handed</td>\n",
       "      <td>Krajinovic</td>\n",
       "      <td>70</td>\n",
       "      <td>3205462.0</td>\n",
       "      <td>39</td>\n",
       "      <td>26</td>\n",
       "      <td>0</td>\n",
       "      <td>71</td>\n",
       "      <td>(75kg)</td>\n",
       "      <td>2008.0</td>\n",
       "    </tr>\n",
       "    <tr>\n",
       "      <th>4</th>\n",
       "      <td>21.0</td>\n",
       "      <td>Two-Handed Backhand</td>\n",
       "      <td>France</td>\n",
       "      <td>Ugo</td>\n",
       "      <td>0</td>\n",
       "      <td>(188cm)</td>\n",
       "      <td>Left-Handed</td>\n",
       "      <td>Humbert</td>\n",
       "      <td>28</td>\n",
       "      <td>1233014.0</td>\n",
       "      <td>43</td>\n",
       "      <td>43</td>\n",
       "      <td>1</td>\n",
       "      <td>24</td>\n",
       "      <td>(73kg)</td>\n",
       "      <td>2016.0</td>\n",
       "    </tr>\n",
       "  </tbody>\n",
       "</table>\n",
       "</div>"
      ],
      "text/plain": [
       "    age             backhand birthplace  f_name  finals_career       ht  \\\n",
       "0  32.0  Two-Handed Backhand     Serbia   Novak             34  (188cm)   \n",
       "1  21.0  Two-Handed Backhand     Norway  Casper              1  (183cm)   \n",
       "2  31.0  Two-Handed Backhand     France  Adrian              8  (180cm)   \n",
       "3  27.0  Two-Handed Backhand     Serbia   Filip              3  (185cm)   \n",
       "4  21.0  Two-Handed Backhand     France     Ugo              0  (188cm)   \n",
       "\n",
       "         l_hand      l_name  loss_career  prize_career  rank_2020  \\\n",
       "0  Right-Handed    Djokovic          187   143059955.0          1   \n",
       "1  Right-Handed        Ruud           43     1699038.0         45   \n",
       "2   Left-Handed   Mannarino          223     7173409.0         44   \n",
       "3  Right-Handed  Krajinovic           70     3205462.0         39   \n",
       "4   Left-Handed     Humbert           28     1233014.0         43   \n",
       "\n",
       "   rank_career  titles_career  win_career      wt  yr_pro  \n",
       "0            1             78         906  (77kg)  2003.0  \n",
       "1           45              0          42  (77kg)  2015.0  \n",
       "2           22              1         190  (79kg)  2004.0  \n",
       "3           26              0          71  (75kg)  2008.0  \n",
       "4           43              1          24  (73kg)  2016.0  "
      ]
     },
     "execution_count": 95,
     "metadata": {},
     "output_type": "execute_result"
    }
   ],
   "source": [
    "Tennis.head()"
   ]
  },
  {
   "cell_type": "code",
   "execution_count": 96,
   "metadata": {},
   "outputs": [],
   "source": [
    "Ten0 = Tennis[Tennis.birthplace.isna()] \n",
    "Ten1 = Tennis[Tennis.birthplace.notna()]\n",
    "#Ten = np.where(Tenn';tip[]\\is.applymap(lambda x: x == ''))\n"
   ]
  },
  {
   "cell_type": "code",
   "execution_count": 97,
   "metadata": {},
   "outputs": [
    {
     "name": "stdout",
     "output_type": "stream",
     "text": [
      "Mean0=  1134.936090225564\n",
      "Mean1=  527.6670493685419\n",
      "Min0=  0\n",
      "Min1=  0\n",
      "Max0=  1924\n",
      "Max1=  1892\n"
     ]
    }
   ],
   "source": [
    "print('Mean0= ', Ten0['rank_2020'].mean())\n",
    "print('Mean1= ',Ten1['rank_2020'].mean())\n",
    "\n",
    "print('Min0= ', Ten0['rank_2020'].min())\n",
    "print('Min1= ',Ten1['rank_2020'].min())\n",
    "\n",
    "print('Max0= ', Ten0['rank_2020'].max())\n",
    "print('Max1= ',Ten1['rank_2020'].max())"
   ]
  },
  {
   "cell_type": "code",
   "execution_count": 103,
   "metadata": {},
   "outputs": [
    {
     "data": {
      "text/plain": [
       "age                1\n",
       "backhand           1\n",
       "birthplace         0\n",
       "f_name             0\n",
       "finals_career      0\n",
       "ht                34\n",
       "l_hand             1\n",
       "l_name             0\n",
       "loss_career        0\n",
       "prize_career       0\n",
       "rank_2020          0\n",
       "rank_career        0\n",
       "titles_career      0\n",
       "win_career         0\n",
       "wt                22\n",
       "yr_pro           491\n",
       "dtype: int64"
      ]
     },
     "execution_count": 103,
     "metadata": {},
     "output_type": "execute_result"
    }
   ],
   "source": [
    "Tennis.shape\n",
    "Tennis.isnull().sum()\n",
    "\n",
    "Ten1.isnull().sum()\n",
    "#Ten0[Ten0.ht.isna()]"
   ]
  },
  {
   "cell_type": "code",
   "execution_count": 98,
   "metadata": {},
   "outputs": [],
   "source": [
    "Tennis['birth_missing'] = np.where(Tennis.birthplace.isna(), '1', '0')"
   ]
  },
  {
   "cell_type": "code",
   "execution_count": 99,
   "metadata": {},
   "outputs": [
    {
     "data": {
      "image/png": "[encoded data removed]",
      "text/plain": [
       "<Figure size 432x288 with 1 Axes>"
      ]
     },
     "metadata": {
      "needs_background": "light"
     },
     "output_type": "display_data"
    }
   ],
   "source": [
    "#df = pd.DataFrame(data = np.random.random(size=(4,4)), columns = ['A','B','C','D'])\n",
    "#df.head()\n",
    "#pd.melt(df)\n",
    "sns.boxplot(x=\"birth_missing\", y=\"rank_2020\", data=Tennis)\n",
    "\n",
    "plt.show()"
   ]
  },
  {
   "cell_type": "code",
   "execution_count": null,
   "metadata": {},
   "outputs": [],
   "source": []
  },
  {
   "cell_type": "code",
   "execution_count": null,
   "metadata": {},
   "outputs": [],
   "source": []
  },
  {
   "cell_type": "code",
   "execution_count": null,
   "metadata": {},
   "outputs": [],
   "source": []
  }
 ],
 "metadata": {
  "kernelspec": {
   "display_name": "Python 3",
   "language": "python",
   "name": "python3"
  },
  "language_info": {
   "codemirror_mode": {
    "name": "ipython",
    "version": 3
   },
   "file_extension": ".py",
   "mimetype": "text/x-python",
   "name": "python",
   "nbconvert_exporter": "python",
   "pygments_lexer": "ipython3",
   "version": "3.7.3"
  }
 },
 "nbformat": 4,
 "nbformat_minor": 2
}
