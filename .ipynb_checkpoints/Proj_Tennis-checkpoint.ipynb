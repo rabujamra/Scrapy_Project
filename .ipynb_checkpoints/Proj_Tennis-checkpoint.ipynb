{
 "cells": [
  {
   "cell_type": "code",
   "execution_count": 426,
   "metadata": {},
   "outputs": [],
   "source": [
    "import pandas as pd\n",
    "import numpy as np\n",
    "import matplotlib.pyplot as plt\n",
    "import seaborn as sns\n",
    "import re\n"
   ]
  },
  {
   "cell_type": "code",
   "execution_count": 427,
   "metadata": {},
   "outputs": [],
   "source": [
    "Tennis = pd.read_csv(\"Tennis.csv\") "
   ]
  },
  {
   "cell_type": "code",
   "execution_count": 428,
   "metadata": {},
   "outputs": [],
   "source": [
    "#update wt/ht to make int (also remove parentheses and kg/cm)\n",
    "Tennis.ht = pd.Series([int(re.sub(\"[cm()]\",'',str(x))) if x is not np.nan else x for x in Tennis.ht])\n",
    "Tennis.wt = pd.Series([int(re.sub(\"[kg()]\",'',str(x))) if x is not np.nan else x for x in Tennis.wt])"
   ]
  },
  {
   "cell_type": "code",
   "execution_count": 429,
   "metadata": {},
   "outputs": [],
   "source": [
    "#Split Tennis into Ten0/Ten1 based on having missing birthplace\n",
    "Ten0 = Tennis[Tennis.birthplace.isna()] \n",
    "Ten1 = Tennis[Tennis.birthplace.notna()]\n"
   ]
  },
  {
   "cell_type": "code",
   "execution_count": 430,
   "metadata": {},
   "outputs": [
    {
     "name": "stdout",
     "output_type": "stream",
     "text": [
      "Mean0=  1222.4812030075188\n",
      "Mean1=  611.3678160919541\n",
      "Min0=  0\n",
      "Min1=  0\n",
      "Max0=  1928\n",
      "Max1=  1922\n"
     ]
    }
   ],
   "source": [
    "#Compare both groups\n",
    "print('Mean0= ', Ten0['rank_2020'].mean())\n",
    "print('Mean1= ',Ten1['rank_2020'].mean())\n",
    "\n",
    "print('Min0= ', Ten0['rank_2020'].min())\n",
    "print('Min1= ',Ten1['rank_2020'].min())\n",
    "\n",
    "print('Max0= ', Ten0['rank_2020'].max())\n",
    "print('Max1= ',Ten1['rank_2020'].max())"
   ]
  },
  {
   "cell_type": "code",
   "execution_count": 431,
   "metadata": {},
   "outputs": [
    {
     "data": {
      "text/plain": [
       "age                1\n",
       "backhand           1\n",
       "birthplace         0\n",
       "f_name             0\n",
       "finals_career      0\n",
       "ht                34\n",
       "l_hand             1\n",
       "l_name             0\n",
       "loss_career        0\n",
       "prize_career       0\n",
       "rank_2020          0\n",
       "rank_career        0\n",
       "titles_career      0\n",
       "win_career         0\n",
       "wt                22\n",
       "yr_pro           490\n",
       "dtype: int64"
      ]
     },
     "execution_count": 431,
     "metadata": {},
     "output_type": "execute_result"
    }
   ],
   "source": [
    "#Look at missing in Ten1 group (looks fairly solid)\n",
    "Ten1.isnull().sum()"
   ]
  },
  {
   "cell_type": "code",
   "execution_count": 432,
   "metadata": {},
   "outputs": [],
   "source": [
    "Tennis['birth_missing'] = np.where(Tennis.birthplace.isna(), '1', '0')"
   ]
  },
  {
   "cell_type": "code",
   "execution_count": 433,
   "metadata": {
    "scrolled": true
   },
   "outputs": [
    {
     "data": {
      "image/png": "[encoded data removed]",
      "text/plain": [
       "<Figure size 432x288 with 1 Axes>"
      ]
     },
     "metadata": {
      "needs_background": "light"
     },
     "output_type": "display_data"
    }
   ],
   "source": [
    "#Compare both groups using boxplot\n",
    "sns.boxplot(x=\"birth_missing\", y=\"rank_2020\", data=Tennis)\n",
    "\n",
    "plt.show()"
   ]
  },
  {
   "cell_type": "code",
   "execution_count": 434,
   "metadata": {},
   "outputs": [
    {
     "data": {
      "text/plain": [
       "age               0\n",
       "backhand          1\n",
       "birthplace        0\n",
       "f_name            0\n",
       "finals_career     0\n",
       "ht               21\n",
       "l_hand            1\n",
       "l_name            0\n",
       "loss_career       0\n",
       "prize_career      0\n",
       "rank_2020         0\n",
       "rank_career       0\n",
       "titles_career     0\n",
       "win_career        0\n",
       "wt               21\n",
       "yr_pro           21\n",
       "dtype: int64"
      ]
     },
     "execution_count": 434,
     "metadata": {},
     "output_type": "execute_result"
    }
   ],
   "source": [
    "#missing stats for ht/wt\n",
    "Ten1[Ten1.ht.isna() & Ten1.wt.isna()].isnull().sum() #remove those having both ht/wt missing (21 total)"
   ]
  },
  {
   "cell_type": "code",
   "execution_count": 435,
   "metadata": {
    "scrolled": true
   },
   "outputs": [
    {
     "data": {
      "text/plain": [
       "age                1\n",
       "backhand           0\n",
       "birthplace         0\n",
       "f_name             0\n",
       "finals_career      0\n",
       "ht                13\n",
       "l_hand             0\n",
       "l_name             0\n",
       "loss_career        0\n",
       "prize_career       0\n",
       "rank_2020          0\n",
       "rank_career        0\n",
       "titles_career      0\n",
       "win_career         0\n",
       "wt                 1\n",
       "yr_pro           469\n",
       "dtype: int64"
      ]
     },
     "execution_count": 435,
     "metadata": {},
     "output_type": "execute_result"
    }
   ],
   "source": [
    "Ten1[Ten1.ht.notna() | Ten1.wt.notna()].isnull().sum() #this is what we will keep (mutate NA's)--850 total remain"
   ]
  },
  {
   "cell_type": "code",
   "execution_count": 436,
   "metadata": {
    "scrolled": true
   },
   "outputs": [],
   "source": [
    "#remove yr_pro (since missing significantly, will not be used)\n",
    "Ten1.drop('yr_pro', axis=1, inplace=True)"
   ]
  },
  {
   "cell_type": "code",
   "execution_count": 437,
   "metadata": {},
   "outputs": [
    {
     "data": {
      "text/plain": [
       "(870, 15)"
      ]
     },
     "execution_count": 437,
     "metadata": {},
     "output_type": "execute_result"
    }
   ],
   "source": [
    "Ten1.shape #shape before removing missing (ck)"
   ]
  },
  {
   "cell_type": "code",
   "execution_count": 438,
   "metadata": {
    "scrolled": false
   },
   "outputs": [
    {
     "data": {
      "text/plain": [
       "(849, 15)"
      ]
     },
     "execution_count": 438,
     "metadata": {},
     "output_type": "execute_result"
    }
   ],
   "source": [
    "#remove all ht or wt not NA (remove if missing both ht/wt)\n",
    "Ten1 = Ten1[Ten1.ht.notna() | Ten1.wt.notna()]\n",
    "Ten1.shape #shape after removing missing (ck)"
   ]
  },
  {
   "cell_type": "code",
   "execution_count": 439,
   "metadata": {},
   "outputs": [
    {
     "data": {
      "text/plain": [
       "age              0\n",
       "backhand         0\n",
       "birthplace       0\n",
       "f_name           0\n",
       "finals_career    0\n",
       "ht               0\n",
       "l_hand           0\n",
       "l_name           0\n",
       "loss_career      0\n",
       "prize_career     0\n",
       "rank_2020        0\n",
       "rank_career      0\n",
       "titles_career    0\n",
       "win_career       0\n",
       "wt               0\n",
       "dtype: int64"
      ]
     },
     "execution_count": 439,
     "metadata": {},
     "output_type": "execute_result"
    }
   ],
   "source": [
    "#fill remaining NA's with mean for respective cols\n",
    "Ten1.fillna(Ten1.mean(), inplace=True)\n",
    "\n",
    "#ck for any remaining NA's (should not be any)\n",
    "Ten1.isnull().sum()"
   ]
  },
  {
   "cell_type": "code",
   "execution_count": null,
   "metadata": {},
   "outputs": [],
   "source": [
    "#Start Explortion--Ten1 contains full study data"
   ]
  },
  {
   "cell_type": "code",
   "execution_count": 440,
   "metadata": {
    "scrolled": true
   },
   "outputs": [
    {
     "data": {
      "text/html": [
       "<div>\n",
       "<style scoped>\n",
       "    .dataframe tbody tr th:only-of-type {\n",
       "        vertical-align: middle;\n",
       "    }\n",
       "\n",
       "    .dataframe tbody tr th {\n",
       "        vertical-align: top;\n",
       "    }\n",
       "\n",
       "    .dataframe thead th {\n",
       "        text-align: right;\n",
       "    }\n",
       "</style>\n",
       "<table border=\"1\" class=\"dataframe\">\n",
       "  <thead>\n",
       "    <tr style=\"text-align: right;\">\n",
       "      <th></th>\n",
       "      <th>age</th>\n",
       "      <th>backhand</th>\n",
       "      <th>birthplace</th>\n",
       "      <th>f_name</th>\n",
       "      <th>finals_career</th>\n",
       "      <th>ht</th>\n",
       "      <th>l_hand</th>\n",
       "      <th>l_name</th>\n",
       "      <th>loss_career</th>\n",
       "      <th>prize_career</th>\n",
       "      <th>rank_2020</th>\n",
       "      <th>rank_career</th>\n",
       "      <th>titles_career</th>\n",
       "      <th>win_career</th>\n",
       "      <th>wt</th>\n",
       "    </tr>\n",
       "  </thead>\n",
       "  <tbody>\n",
       "    <tr>\n",
       "      <th>0</th>\n",
       "      <td>32.0</td>\n",
       "      <td>Two-Handed Backhand</td>\n",
       "      <td>Serbia</td>\n",
       "      <td>Novak</td>\n",
       "      <td>34</td>\n",
       "      <td>188.0</td>\n",
       "      <td>Right-Handed</td>\n",
       "      <td>Djokovic</td>\n",
       "      <td>187</td>\n",
       "      <td>143059955.0</td>\n",
       "      <td>1</td>\n",
       "      <td>1</td>\n",
       "      <td>78</td>\n",
       "      <td>906</td>\n",
       "      <td>77.0</td>\n",
       "    </tr>\n",
       "    <tr>\n",
       "      <th>1</th>\n",
       "      <td>38.0</td>\n",
       "      <td>One-Handed Backhand</td>\n",
       "      <td>Spain</td>\n",
       "      <td>Feliciano</td>\n",
       "      <td>11</td>\n",
       "      <td>188.0</td>\n",
       "      <td>Left-Handed</td>\n",
       "      <td>Lopez</td>\n",
       "      <td>448</td>\n",
       "      <td>17350913.0</td>\n",
       "      <td>53</td>\n",
       "      <td>12</td>\n",
       "      <td>7</td>\n",
       "      <td>488</td>\n",
       "      <td>88.0</td>\n",
       "    </tr>\n",
       "    <tr>\n",
       "      <th>2</th>\n",
       "      <td>22.0</td>\n",
       "      <td>Two-Handed Backhand</td>\n",
       "      <td>Russia</td>\n",
       "      <td>Alexander</td>\n",
       "      <td>2</td>\n",
       "      <td>198.0</td>\n",
       "      <td>Right-Handed</td>\n",
       "      <td>Bublik</td>\n",
       "      <td>29</td>\n",
       "      <td>1347179.0</td>\n",
       "      <td>55</td>\n",
       "      <td>48</td>\n",
       "      <td>0</td>\n",
       "      <td>25</td>\n",
       "      <td>77.0</td>\n",
       "    </tr>\n",
       "    <tr>\n",
       "      <th>3</th>\n",
       "      <td>28.0</td>\n",
       "      <td>Two-Handed Backhand</td>\n",
       "      <td>Hungary</td>\n",
       "      <td>Marton</td>\n",
       "      <td>1</td>\n",
       "      <td>188.0</td>\n",
       "      <td>Right-Handed</td>\n",
       "      <td>Fucsovics</td>\n",
       "      <td>73</td>\n",
       "      <td>2970914.0</td>\n",
       "      <td>73</td>\n",
       "      <td>31</td>\n",
       "      <td>1</td>\n",
       "      <td>74</td>\n",
       "      <td>82.0</td>\n",
       "    </tr>\n",
       "    <tr>\n",
       "      <th>4</th>\n",
       "      <td>24.0</td>\n",
       "      <td>Two-Handed Backhand</td>\n",
       "      <td>Italy</td>\n",
       "      <td>Lorenzo</td>\n",
       "      <td>0</td>\n",
       "      <td>191.0</td>\n",
       "      <td>Right-Handed</td>\n",
       "      <td>Sonego</td>\n",
       "      <td>35</td>\n",
       "      <td>1342272.0</td>\n",
       "      <td>52</td>\n",
       "      <td>46</td>\n",
       "      <td>1</td>\n",
       "      <td>25</td>\n",
       "      <td>76.0</td>\n",
       "    </tr>\n",
       "  </tbody>\n",
       "</table>\n",
       "</div>"
      ],
      "text/plain": [
       "    age             backhand birthplace     f_name  finals_career     ht  \\\n",
       "0  32.0  Two-Handed Backhand     Serbia      Novak             34  188.0   \n",
       "1  38.0  One-Handed Backhand      Spain  Feliciano             11  188.0   \n",
       "2  22.0  Two-Handed Backhand     Russia  Alexander              2  198.0   \n",
       "3  28.0  Two-Handed Backhand    Hungary     Marton              1  188.0   \n",
       "4  24.0  Two-Handed Backhand      Italy    Lorenzo              0  191.0   \n",
       "\n",
       "         l_hand     l_name  loss_career  prize_career  rank_2020  rank_career  \\\n",
       "0  Right-Handed   Djokovic          187   143059955.0          1            1   \n",
       "1   Left-Handed      Lopez          448    17350913.0         53           12   \n",
       "2  Right-Handed     Bublik           29     1347179.0         55           48   \n",
       "3  Right-Handed  Fucsovics           73     2970914.0         73           31   \n",
       "4  Right-Handed     Sonego           35     1342272.0         52           46   \n",
       "\n",
       "   titles_career  win_career    wt  \n",
       "0             78         906  77.0  \n",
       "1              7         488  88.0  \n",
       "2              0          25  77.0  \n",
       "3              1          74  82.0  \n",
       "4              1          25  76.0  "
      ]
     },
     "execution_count": 440,
     "metadata": {},
     "output_type": "execute_result"
    }
   ],
   "source": [
    "Ten1.head()"
   ]
  },
  {
   "cell_type": "code",
   "execution_count": 441,
   "metadata": {},
   "outputs": [],
   "source": [
    "#replace small error in birthplace (typos)\n",
    "Ten1.loc[Ten1['birthplace'].str.contains('U.S.A.'), 'birthplace'] = 'USA'\n",
    "Ten1.loc[Ten1['birthplace'].str.contains('CA'), 'birthplace'] = 'USA'\n",
    "Ten1.loc[Ten1['birthplace'].str.contains('California'), 'birthplace'] = 'USA'\n",
    "Ten1.loc[Ten1['birthplace'].str.contains('Florida'), 'birthplace'] = 'USA'\n",
    "Ten1.loc[Ten1['birthplace'].str.contains('Ohio'), 'birthplace'] = 'USA'\n",
    "Ten1.loc[Ten1['birthplace'].str.contains('NC'), 'birthplace'] = 'USA'\n",
    "Ten1.loc[Ten1['birthplace'].str.contains('New York'), 'birthplace'] = 'USA'\n",
    "Ten1.loc[Ten1['birthplace'].str.contains('Illinois'), 'birthplace'] = 'USA'\n",
    "Ten1.loc[Ten1['birthplace'].str.contains('IA'), 'birthplace'] = 'USA'\n",
    "Ten1.loc[Ten1['birthplace'].str.contains('IL'), 'birthplace'] = 'USA'\n",
    "Ten1.loc[Ten1['birthplace'].str.contains('OH'), 'birthplace'] = 'USA'\n",
    "Ten1.loc[Ten1['birthplace'].str.contains('Idaho'), 'birthplace'] = 'USA'\n",
    "Ten1.loc[Ten1['birthplace'].str.contains('Michigan'), 'birthplace'] = 'USA'\n",
    "Ten1.loc[Ten1['birthplace'].str.contains('Scotland'), 'birthplace'] = 'England'\n",
    "Ten1.loc[Ten1['birthplace'].str.contains('Great Britain'), 'birthplace'] = 'England'\n",
    "Ten1.loc[Ten1['birthplace'].str.contains('Bosnia & Herzegovina'), 'birthplace'] = 'Bosnia-Herzegovina'\n",
    "Ten1.loc[Ten1['birthplace'].str.contains('Cyrprus'), 'birthplace'] = 'Cyprus'\n",
    "Ten1.loc[Ten1['birthplace'].str.contains('South Australia'), 'birthplace'] = 'Australia'\n",
    "Ten1.loc[Ten1['birthplace'].str.contains('Slovak Republic'), 'birthplace'] = 'Slovakia'\n",
    "Ten1.loc[Ten1['birthplace'].str.contains('CZE'), 'birthplace'] = 'Czech Republic'\n",
    "Ten1.loc[Ten1['birthplace'].str.contains('chile'), 'birthplace'] = 'Chile'\n",
    "Ten1.loc[Ten1['birthplace'].str.contains('BRA'), 'birthplace'] = 'Brazil'\n",
    "Ten1.loc[Ten1['birthplace'].str.contains('Chinese Taipei'), 'birthplace'] = 'Taiwan'\n",
    "Ten1.loc[Ten1['birthplace'].str.contains('The Netherlands'), 'birthplace'] = 'Netherlands'"
   ]
  },
  {
   "cell_type": "code",
   "execution_count": 443,
   "metadata": {},
   "outputs": [],
   "source": [
    "#remove 4 rows having rank_2020=0 (mostly trivial values)\n",
    "Ten1 = Ten1[Ten1.rank_2020 != 0]"
   ]
  },
  {
   "cell_type": "code",
   "execution_count": 444,
   "metadata": {},
   "outputs": [
    {
     "data": {
      "text/html": [
       "<div>\n",
       "<style scoped>\n",
       "    .dataframe tbody tr th:only-of-type {\n",
       "        vertical-align: middle;\n",
       "    }\n",
       "\n",
       "    .dataframe tbody tr th {\n",
       "        vertical-align: top;\n",
       "    }\n",
       "\n",
       "    .dataframe thead th {\n",
       "        text-align: right;\n",
       "    }\n",
       "</style>\n",
       "<table border=\"1\" class=\"dataframe\">\n",
       "  <thead>\n",
       "    <tr style=\"text-align: right;\">\n",
       "      <th></th>\n",
       "      <th>age</th>\n",
       "      <th>backhand</th>\n",
       "      <th>birthplace</th>\n",
       "      <th>f_name</th>\n",
       "      <th>finals_career</th>\n",
       "      <th>ht</th>\n",
       "      <th>l_hand</th>\n",
       "      <th>l_name</th>\n",
       "      <th>loss_career</th>\n",
       "      <th>prize_career</th>\n",
       "      <th>rank_2020</th>\n",
       "      <th>rank_career</th>\n",
       "      <th>titles_career</th>\n",
       "      <th>win_career</th>\n",
       "      <th>wt</th>\n",
       "    </tr>\n",
       "  </thead>\n",
       "  <tbody>\n",
       "    <tr>\n",
       "      <th>1924</th>\n",
       "      <td>21.0</td>\n",
       "      <td>One-Handed Backhand</td>\n",
       "      <td>Greece</td>\n",
       "      <td>Stefanos</td>\n",
       "      <td>5</td>\n",
       "      <td>193.0</td>\n",
       "      <td>Right-Handed</td>\n",
       "      <td>Tsitsipas</td>\n",
       "      <td>66</td>\n",
       "      <td>10824098.0</td>\n",
       "      <td>6</td>\n",
       "      <td>5</td>\n",
       "      <td>4</td>\n",
       "      <td>107</td>\n",
       "      <td>89.0</td>\n",
       "    </tr>\n",
       "  </tbody>\n",
       "</table>\n",
       "</div>"
      ],
      "text/plain": [
       "       age             backhand birthplace    f_name  finals_career     ht  \\\n",
       "1924  21.0  One-Handed Backhand     Greece  Stefanos              5  193.0   \n",
       "\n",
       "            l_hand     l_name  loss_career  prize_career  rank_2020  \\\n",
       "1924  Right-Handed  Tsitsipas           66    10824098.0          6   \n",
       "\n",
       "      rank_career  titles_career  win_career    wt  \n",
       "1924            5              4         107  89.0  "
      ]
     },
     "execution_count": 444,
     "metadata": {},
     "output_type": "execute_result"
    }
   ],
   "source": [
    "Ten1[Ten1.rank_2020==6]"
   ]
  },
  {
   "cell_type": "code",
   "execution_count": 446,
   "metadata": {},
   "outputs": [
    {
     "data": {
      "text/plain": [
       "birthplace\n",
       "USA                   88\n",
       "France                68\n",
       "Italy                 53\n",
       "Argentina             42\n",
       "Germany               39\n",
       "Spain                 38\n",
       "Russia                36\n",
       "Japan                 29\n",
       "Australia             28\n",
       "Brazil                22\n",
       "India                 21\n",
       "China                 20\n",
       "England               18\n",
       "Czech Republic        17\n",
       "Serbia                17\n",
       "Switzerland           14\n",
       "Canada                13\n",
       "Poland                13\n",
       "Ukraine               13\n",
       "Belgium               12\n",
       "Romania               12\n",
       "Portugal              11\n",
       "Slovakia              11\n",
       "Sweden                11\n",
       "Colombia              10\n",
       "Netherlands           10\n",
       "Austria                9\n",
       "South Africa           9\n",
       "Mexico                 8\n",
       "Uzbekistan             8\n",
       "                      ..\n",
       "Tunisia                4\n",
       "Turkey                 4\n",
       "Bolivia                3\n",
       "Ecuador                3\n",
       "Egypt                  3\n",
       "Latvia                 3\n",
       "Moldova                3\n",
       "Peru                   3\n",
       "Thailand               3\n",
       "Cyprus                 2\n",
       "Denmark                2\n",
       "Estonia                2\n",
       "Ireland                2\n",
       "Lithuania              2\n",
       "Norway                 2\n",
       "Zimbabwe               2\n",
       "Algeria                1\n",
       "Bahamas                1\n",
       "Barbados               1\n",
       "Crimea                 1\n",
       "Dominican Republic     1\n",
       "El Salvador            1\n",
       "Guadeloupe             1\n",
       "Guatemala              1\n",
       "Kazakhstan             1\n",
       "Macedonia              1\n",
       "Mauritius              1\n",
       "Morocco                1\n",
       "New Zealand            1\n",
       "Pakistan               1\n",
       "Name: birthplace, Length: 75, dtype: int64"
      ]
     },
     "execution_count": 446,
     "metadata": {},
     "output_type": "execute_result"
    }
   ],
   "source": [
    "Ten1.groupby('birthplace')['birthplace'].count().nlargest(75)\n",
    "\n",
    "#Ten1.groupby('birthplace')['rank_2020'].min().nsmallest(75)"
   ]
  },
  {
   "cell_type": "code",
   "execution_count": null,
   "metadata": {},
   "outputs": [],
   "source": []
  }
 ],
 "metadata": {
  "kernelspec": {
   "display_name": "Python 3",
   "language": "python",
   "name": "python3"
  },
  "language_info": {
   "codemirror_mode": {
    "name": "ipython",
    "version": 3
   },
   "file_extension": ".py",
   "mimetype": "text/x-python",
   "name": "python",
   "nbconvert_exporter": "python",
   "pygments_lexer": "ipython3",
   "version": "3.7.3"
  }
 },
 "nbformat": 4,
 "nbformat_minor": 2
}
